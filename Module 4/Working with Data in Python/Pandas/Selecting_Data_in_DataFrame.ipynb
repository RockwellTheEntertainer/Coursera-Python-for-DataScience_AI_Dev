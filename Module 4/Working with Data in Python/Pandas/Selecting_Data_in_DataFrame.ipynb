{
 "cells": [
  {
   "cell_type": "markdown",
   "id": "b2997a41-e3da-47e5-b578-03852d70e2c7",
   "metadata": {},
   "source": [
    "# **Practice Lab: Selecting Data in a DataFrame**\n",
    "\n",
    "## Objectives\n",
    "\n",
    "After completing the lab I will be able to:\n",
    "\n",
    "* Use Pandas Library to create DataFrames and Series\n",
    "* Locate data in the DataFrame using `loc()` and `iloc()` functions\n",
    "* Use slicing"
   ]
  },
  {
   "cell_type": "markdown",
   "id": "eb711169-912f-4810-854d-9508275f0549",
   "metadata": {},
   "source": [
    "### Exercise 1: Pandas - DataFrames and Series\n",
    "\n",
    "**Pandas** is a popular library for data anlysis built on top of the Python programming language. Pandas generally provide two data structures for manipulating data, they are:\n",
    "* DataFrame\n",
    "* Series\n",
    "\n",
    "A **DataFrame** is a two-dimensional data structure, i.e., data is aligned in a tabular fashion in rows and columns\n",
    "* A Pandas DataFrame will be created by loading the datasets from existing storage\n",
    "* Storage can be a SQL database, CSV file, Excel file, etc.\n",
    "* It can also be generated from the lists, dictionaries, and from a list of dictionaries\n",
    "\n",
    "**Series** represents a one-dimensional array of indexed data. It has two main components:\n",
    "* An array of actual data\n",
    "* An associated array of indexes or data labels\n",
    "\n",
    "The index is used to access individual data vlaues. You can also get a column of a DataFrame aas a **Series**. You can think of a Pandas series as a 1-D DataFrame"
   ]
  },
  {
   "cell_type": "code",
   "execution_count": 1,
   "id": "75a6276f-e853-4558-9d8e-3df84aa4bf76",
   "metadata": {},
   "outputs": [
    {
     "name": "stdout",
     "output_type": "stream",
     "text": [
      "Defaulting to user installation because normal site-packages is not writeable\n",
      "Collecting pandas\n",
      "  Downloading pandas-2.2.3-cp312-cp312-win_amd64.whl.metadata (19 kB)\n",
      "Collecting numpy>=1.26.0 (from pandas)\n",
      "  Downloading numpy-2.1.3-cp312-cp312-win_amd64.whl.metadata (60 kB)\n",
      "Requirement already satisfied: python-dateutil>=2.8.2 in c:\\users\\matth\\appdata\\roaming\\python\\python312\\site-packages (from pandas) (2.9.0.post0)\n",
      "Collecting pytz>=2020.1 (from pandas)\n",
      "  Downloading pytz-2024.2-py2.py3-none-any.whl.metadata (22 kB)\n",
      "Collecting tzdata>=2022.7 (from pandas)\n",
      "  Downloading tzdata-2024.2-py2.py3-none-any.whl.metadata (1.4 kB)\n",
      "Requirement already satisfied: six>=1.5 in c:\\users\\matth\\appdata\\roaming\\python\\python312\\site-packages (from python-dateutil>=2.8.2->pandas) (1.16.0)\n",
      "Downloading pandas-2.2.3-cp312-cp312-win_amd64.whl (11.5 MB)\n",
      "   ---------------------------------------- 0.0/11.5 MB ? eta -:--:--\n",
      "   ----- ---------------------------------- 1.6/11.5 MB 9.4 MB/s eta 0:00:02\n",
      "   ------------ --------------------------- 3.7/11.5 MB 9.9 MB/s eta 0:00:01\n",
      "   -------------------- ------------------- 6.0/11.5 MB 10.5 MB/s eta 0:00:01\n",
      "   ----------------------------- ---------- 8.4/11.5 MB 10.6 MB/s eta 0:00:01\n",
      "   ------------------------------------- -- 10.7/11.5 MB 11.0 MB/s eta 0:00:01\n",
      "   ---------------------------------------- 11.5/11.5 MB 10.7 MB/s eta 0:00:00\n",
      "Downloading numpy-2.1.3-cp312-cp312-win_amd64.whl (12.6 MB)\n",
      "   ---------------------------------------- 0.0/12.6 MB ? eta -:--:--\n",
      "   ------ --------------------------------- 2.1/12.6 MB 11.8 MB/s eta 0:00:01\n",
      "   --------------- ------------------------ 4.7/12.6 MB 11.9 MB/s eta 0:00:01\n",
      "   --------------------- ------------------ 6.8/12.6 MB 11.7 MB/s eta 0:00:01\n",
      "   ----------------------------- ---------- 9.2/12.6 MB 11.4 MB/s eta 0:00:01\n",
      "   ----------------------------------- ---- 11.3/12.6 MB 11.0 MB/s eta 0:00:01\n",
      "   ---------------------------------------- 12.6/12.6 MB 10.8 MB/s eta 0:00:00\n",
      "Downloading pytz-2024.2-py2.py3-none-any.whl (508 kB)\n",
      "Downloading tzdata-2024.2-py2.py3-none-any.whl (346 kB)\n",
      "Installing collected packages: pytz, tzdata, numpy, pandas\n",
      "Successfully installed numpy-2.1.3 pandas-2.2.3 pytz-2024.2 tzdata-2024.2\n"
     ]
    }
   ],
   "source": [
    "!pip install pandas"
   ]
  },
  {
   "cell_type": "code",
   "execution_count": 2,
   "id": "91df380c-77f9-4712-89b9-1db462f7b18e",
   "metadata": {},
   "outputs": [],
   "source": [
    "# Now we import the Pandas library\n",
    "\n",
    "import pandas as pd"
   ]
  },
  {
   "cell_type": "markdown",
   "id": "d58c7416-76d7-487b-ae96-f84378c1d88a",
   "metadata": {},
   "source": [
    "Once we have imported pandas, we can then use the built-in functions to create and analyze data\n",
    "\n",
    "**In this lab, we will learn how to create a DataFrame out of a dictionary**\n",
    "\n",
    "Let us consider a dictionary 'x' with keys and values as shown below\n",
    "\n",
    "We then create a DataFrame from the dictionary using the function `pd.DataFrame(dict)`"
   ]
  },
  {
   "cell_type": "code",
   "execution_count": 3,
   "id": "33c23c00-53ba-48c0-bc5c-d6486dd82083",
   "metadata": {},
   "outputs": [
    {
     "data": {
      "text/html": [
       "<div>\n",
       "<style scoped>\n",
       "    .dataframe tbody tr th:only-of-type {\n",
       "        vertical-align: middle;\n",
       "    }\n",
       "\n",
       "    .dataframe tbody tr th {\n",
       "        vertical-align: top;\n",
       "    }\n",
       "\n",
       "    .dataframe thead th {\n",
       "        text-align: right;\n",
       "    }\n",
       "</style>\n",
       "<table border=\"1\" class=\"dataframe\">\n",
       "  <thead>\n",
       "    <tr style=\"text-align: right;\">\n",
       "      <th></th>\n",
       "      <th>Name</th>\n",
       "      <th>ID</th>\n",
       "      <th>Department</th>\n",
       "      <th>Salary</th>\n",
       "    </tr>\n",
       "  </thead>\n",
       "  <tbody>\n",
       "    <tr>\n",
       "      <th>0</th>\n",
       "      <td>Rose</td>\n",
       "      <td>1</td>\n",
       "      <td>Architecture Group</td>\n",
       "      <td>100000</td>\n",
       "    </tr>\n",
       "    <tr>\n",
       "      <th>1</th>\n",
       "      <td>John</td>\n",
       "      <td>2</td>\n",
       "      <td>Software Group</td>\n",
       "      <td>80000</td>\n",
       "    </tr>\n",
       "    <tr>\n",
       "      <th>2</th>\n",
       "      <td>Jane</td>\n",
       "      <td>3</td>\n",
       "      <td>Design Team</td>\n",
       "      <td>50000</td>\n",
       "    </tr>\n",
       "    <tr>\n",
       "      <th>3</th>\n",
       "      <td>Mary</td>\n",
       "      <td>4</td>\n",
       "      <td>Infrastructure</td>\n",
       "      <td>60000</td>\n",
       "    </tr>\n",
       "  </tbody>\n",
       "</table>\n",
       "</div>"
      ],
      "text/plain": [
       "   Name  ID          Department  Salary\n",
       "0  Rose   1  Architecture Group  100000\n",
       "1  John   2      Software Group   80000\n",
       "2  Jane   3         Design Team   50000\n",
       "3  Mary   4      Infrastructure   60000"
      ]
     },
     "execution_count": 3,
     "metadata": {},
     "output_type": "execute_result"
    }
   ],
   "source": [
    "# Define our dictionary 'x'\n",
    "\n",
    "x = {'Name' : ['Rose', 'John', 'Jane', 'Mary'], 'ID' : [1, 2, 3, 4], 'Department' : ['Architecture Group', 'Software Group', 'Design Team', 'Infrastructure'], \n",
    "     'Salary' : [100000, 80000, 50000, 60000]}\n",
    "\n",
    "# Casting the ditionary to a DataFrame:\n",
    "df = pd.DataFrame(x)\n",
    "\n",
    "#Display the result of 'df'\n",
    "df"
   ]
  },
  {
   "cell_type": "markdown",
   "id": "90319bb3-2355-4066-9a26-4df814bc51a3",
   "metadata": {},
   "source": [
    "We can see the direct correspondance between the table. The keys correspond to the column labels and the values or lists correspond to the rows.\n",
    "\n",
    "## Column Selection:\n",
    "\n",
    "To select a column in Pandas DataFrame, we can access the columns by calling them by their column name\n",
    "\n",
    "Let's retrieve the data present in the `ID` column:"
   ]
  },
  {
   "cell_type": "code",
   "execution_count": 4,
   "id": "47687ac6-b51f-4684-a99e-00f3836d87c5",
   "metadata": {},
   "outputs": [
    {
     "data": {
      "text/html": [
       "<div>\n",
       "<style scoped>\n",
       "    .dataframe tbody tr th:only-of-type {\n",
       "        vertical-align: middle;\n",
       "    }\n",
       "\n",
       "    .dataframe tbody tr th {\n",
       "        vertical-align: top;\n",
       "    }\n",
       "\n",
       "    .dataframe thead th {\n",
       "        text-align: right;\n",
       "    }\n",
       "</style>\n",
       "<table border=\"1\" class=\"dataframe\">\n",
       "  <thead>\n",
       "    <tr style=\"text-align: right;\">\n",
       "      <th></th>\n",
       "      <th>ID</th>\n",
       "    </tr>\n",
       "  </thead>\n",
       "  <tbody>\n",
       "    <tr>\n",
       "      <th>0</th>\n",
       "      <td>1</td>\n",
       "    </tr>\n",
       "    <tr>\n",
       "      <th>1</th>\n",
       "      <td>2</td>\n",
       "    </tr>\n",
       "    <tr>\n",
       "      <th>2</th>\n",
       "      <td>3</td>\n",
       "    </tr>\n",
       "    <tr>\n",
       "      <th>3</th>\n",
       "      <td>4</td>\n",
       "    </tr>\n",
       "  </tbody>\n",
       "</table>\n",
       "</div>"
      ],
      "text/plain": [
       "   ID\n",
       "0   1\n",
       "1   2\n",
       "2   3\n",
       "3   4"
      ]
     },
     "execution_count": 4,
     "metadata": {},
     "output_type": "execute_result"
    }
   ],
   "source": [
    "# Retrieve the 'ID' column and assign it to the variable 'x'\n",
    "\n",
    "x = df[['ID']]\n",
    "x"
   ]
  },
  {
   "cell_type": "markdown",
   "id": "d015794d-08d7-4f51-893c-c13b078e160a",
   "metadata": {},
   "source": [
    "Let's use the `type()` function and check the type of variable"
   ]
  },
  {
   "cell_type": "code",
   "execution_count": 5,
   "id": "dda7f4d4-a155-4249-a190-fb7a62fa10a5",
   "metadata": {},
   "outputs": [
    {
     "data": {
      "text/plain": [
       "pandas.core.frame.DataFrame"
      ]
     },
     "execution_count": 5,
     "metadata": {},
     "output_type": "execute_result"
    }
   ],
   "source": [
    "# Check the 'type' of 'x'\n",
    "\n",
    "type(x)"
   ]
  },
  {
   "cell_type": "markdown",
   "id": "73ebadad-0d53-43ec-a6a9-1173ca458d56",
   "metadata": {},
   "source": [
    "The output shows us that the type of the variable is a DataFrame object\n",
    "\n",
    "## Access to Multiple Columns\n",
    "\n",
    "Let's retrieve the data for `Department`, `Salary`, and `ID` columns:"
   ]
  },
  {
   "cell_type": "code",
   "execution_count": 6,
   "id": "66cf3137-a93e-43e8-810d-54c9c1934172",
   "metadata": {},
   "outputs": [
    {
     "data": {
      "text/html": [
       "<div>\n",
       "<style scoped>\n",
       "    .dataframe tbody tr th:only-of-type {\n",
       "        vertical-align: middle;\n",
       "    }\n",
       "\n",
       "    .dataframe tbody tr th {\n",
       "        vertical-align: top;\n",
       "    }\n",
       "\n",
       "    .dataframe thead th {\n",
       "        text-align: right;\n",
       "    }\n",
       "</style>\n",
       "<table border=\"1\" class=\"dataframe\">\n",
       "  <thead>\n",
       "    <tr style=\"text-align: right;\">\n",
       "      <th></th>\n",
       "      <th>Department</th>\n",
       "      <th>Salary</th>\n",
       "      <th>ID</th>\n",
       "    </tr>\n",
       "  </thead>\n",
       "  <tbody>\n",
       "    <tr>\n",
       "      <th>0</th>\n",
       "      <td>Architecture Group</td>\n",
       "      <td>100000</td>\n",
       "      <td>1</td>\n",
       "    </tr>\n",
       "    <tr>\n",
       "      <th>1</th>\n",
       "      <td>Software Group</td>\n",
       "      <td>80000</td>\n",
       "      <td>2</td>\n",
       "    </tr>\n",
       "    <tr>\n",
       "      <th>2</th>\n",
       "      <td>Design Team</td>\n",
       "      <td>50000</td>\n",
       "      <td>3</td>\n",
       "    </tr>\n",
       "    <tr>\n",
       "      <th>3</th>\n",
       "      <td>Infrastructure</td>\n",
       "      <td>60000</td>\n",
       "      <td>4</td>\n",
       "    </tr>\n",
       "  </tbody>\n",
       "</table>\n",
       "</div>"
      ],
      "text/plain": [
       "           Department  Salary  ID\n",
       "0  Architecture Group  100000   1\n",
       "1      Software Group   80000   2\n",
       "2         Design Team   50000   3\n",
       "3      Infrastructure   60000   4"
      ]
     },
     "execution_count": 6,
     "metadata": {},
     "output_type": "execute_result"
    }
   ],
   "source": [
    "# Retrieve the 'Department'. 'Salary', and 'ID' columns and assign to variable 'z'\n",
    "\n",
    "z = df[['Department', 'Salary', 'ID']]\n",
    "z"
   ]
  },
  {
   "cell_type": "markdown",
   "id": "15306f44-0580-4877-8147-4fba57f72f84",
   "metadata": {},
   "source": [
    "## Try it Yourself\n",
    "\n",
    "Problem 1: Creata a DataFrame to display the results below\n",
    "\n",
    "<center>\n",
    "    <img src=\"https://cf-courses-data.s3.us.cloud-object-storage.appdomain.cloud/IBMDeveloperSkillsNetwork-PY0101EN-SkillsNetwork/labs/Module%204/images/Student_data.png\" width=\"300\" alt=\"Student Data\">\n",
    "</center>"
   ]
  },
  {
   "cell_type": "code",
   "execution_count": 10,
   "id": "ba805252-6aba-41d2-9eee-590e10a4a5f5",
   "metadata": {},
   "outputs": [
    {
     "data": {
      "text/html": [
       "<div>\n",
       "<style scoped>\n",
       "    .dataframe tbody tr th:only-of-type {\n",
       "        vertical-align: middle;\n",
       "    }\n",
       "\n",
       "    .dataframe tbody tr th {\n",
       "        vertical-align: top;\n",
       "    }\n",
       "\n",
       "    .dataframe thead th {\n",
       "        text-align: right;\n",
       "    }\n",
       "</style>\n",
       "<table border=\"1\" class=\"dataframe\">\n",
       "  <thead>\n",
       "    <tr style=\"text-align: right;\">\n",
       "      <th></th>\n",
       "      <th>Student</th>\n",
       "      <th>Age</th>\n",
       "      <th>Country</th>\n",
       "      <th>Course</th>\n",
       "      <th>Marks</th>\n",
       "    </tr>\n",
       "  </thead>\n",
       "  <tbody>\n",
       "    <tr>\n",
       "      <th>0</th>\n",
       "      <td>David</td>\n",
       "      <td>27</td>\n",
       "      <td>UK</td>\n",
       "      <td>Python</td>\n",
       "      <td>85</td>\n",
       "    </tr>\n",
       "    <tr>\n",
       "      <th>1</th>\n",
       "      <td>Samuel</td>\n",
       "      <td>24</td>\n",
       "      <td>Canada</td>\n",
       "      <td>Data Structures</td>\n",
       "      <td>72</td>\n",
       "    </tr>\n",
       "    <tr>\n",
       "      <th>2</th>\n",
       "      <td>Terry</td>\n",
       "      <td>22</td>\n",
       "      <td>China</td>\n",
       "      <td>Machine Learning</td>\n",
       "      <td>89</td>\n",
       "    </tr>\n",
       "    <tr>\n",
       "      <th>3</th>\n",
       "      <td>Evan</td>\n",
       "      <td>32</td>\n",
       "      <td>USA</td>\n",
       "      <td>Web Development</td>\n",
       "      <td>76</td>\n",
       "    </tr>\n",
       "  </tbody>\n",
       "</table>\n",
       "</div>"
      ],
      "text/plain": [
       "  Student  Age Country            Course  Marks\n",
       "0   David   27      UK            Python     85\n",
       "1  Samuel   24  Canada   Data Structures     72\n",
       "2   Terry   22   China  Machine Learning     89\n",
       "3    Evan   32     USA   Web Development     76"
      ]
     },
     "execution_count": 10,
     "metadata": {},
     "output_type": "execute_result"
    }
   ],
   "source": [
    "# Define our dictionary to hold data shown above ('Student', 'Age', 'Country', 'Course', 'Marks')\n",
    "\n",
    "StudentsDict = {\"Student\" : [\"David\", \"Samuel\", \"Terry\", \"Evan\"], \"Age\" : [27, 24, 22, 32], \"Country\" : [\"UK\", \"Canada\", \"China\", \"USA\"], \n",
    "                \"Course\" : [\"Python\", \"Data Structures\", \"Machine Learning\", \"Web Development\"], \"Marks\" : [85, 72, 89, 76]}\n",
    "\n",
    "Students_DataFrame = pd.DataFrame(StudentsDict)\n",
    "\n",
    "Students_DataFrame"
   ]
  },
  {
   "cell_type": "markdown",
   "id": "26114fa5-31a9-4f0a-b729-f622271d4dfd",
   "metadata": {},
   "source": [
    "Problem 2: Retrieve the 'Marks' column and assign it to a variable 'b'"
   ]
  },
  {
   "cell_type": "code",
   "execution_count": 12,
   "id": "551c6eff-55fa-499a-8fd6-50f7dfe5aa7b",
   "metadata": {},
   "outputs": [
    {
     "data": {
      "text/html": [
       "<div>\n",
       "<style scoped>\n",
       "    .dataframe tbody tr th:only-of-type {\n",
       "        vertical-align: middle;\n",
       "    }\n",
       "\n",
       "    .dataframe tbody tr th {\n",
       "        vertical-align: top;\n",
       "    }\n",
       "\n",
       "    .dataframe thead th {\n",
       "        text-align: right;\n",
       "    }\n",
       "</style>\n",
       "<table border=\"1\" class=\"dataframe\">\n",
       "  <thead>\n",
       "    <tr style=\"text-align: right;\">\n",
       "      <th></th>\n",
       "      <th>Marks</th>\n",
       "    </tr>\n",
       "  </thead>\n",
       "  <tbody>\n",
       "    <tr>\n",
       "      <th>0</th>\n",
       "      <td>85</td>\n",
       "    </tr>\n",
       "    <tr>\n",
       "      <th>1</th>\n",
       "      <td>72</td>\n",
       "    </tr>\n",
       "    <tr>\n",
       "      <th>2</th>\n",
       "      <td>89</td>\n",
       "    </tr>\n",
       "    <tr>\n",
       "      <th>3</th>\n",
       "      <td>76</td>\n",
       "    </tr>\n",
       "  </tbody>\n",
       "</table>\n",
       "</div>"
      ],
      "text/plain": [
       "   Marks\n",
       "0     85\n",
       "1     72\n",
       "2     89\n",
       "3     76"
      ]
     },
     "execution_count": 12,
     "metadata": {},
     "output_type": "execute_result"
    }
   ],
   "source": [
    "# Assign the column 'Marks' to variable 'b'\n",
    "\n",
    "b = Students_DataFrame[['Marks']]\n",
    "b"
   ]
  },
  {
   "cell_type": "markdown",
   "id": "e2a5c95e-66d4-47b6-a8f8-fe0c425eafca",
   "metadata": {},
   "source": [
    "Problem 3: Retrieve the Country and Course columns and assign it to variable 'c'"
   ]
  },
  {
   "cell_type": "code",
   "execution_count": 13,
   "id": "78cab7e8-fc47-45ff-9f54-d48529fda61d",
   "metadata": {},
   "outputs": [
    {
     "data": {
      "text/html": [
       "<div>\n",
       "<style scoped>\n",
       "    .dataframe tbody tr th:only-of-type {\n",
       "        vertical-align: middle;\n",
       "    }\n",
       "\n",
       "    .dataframe tbody tr th {\n",
       "        vertical-align: top;\n",
       "    }\n",
       "\n",
       "    .dataframe thead th {\n",
       "        text-align: right;\n",
       "    }\n",
       "</style>\n",
       "<table border=\"1\" class=\"dataframe\">\n",
       "  <thead>\n",
       "    <tr style=\"text-align: right;\">\n",
       "      <th></th>\n",
       "      <th>Country</th>\n",
       "      <th>Course</th>\n",
       "    </tr>\n",
       "  </thead>\n",
       "  <tbody>\n",
       "    <tr>\n",
       "      <th>0</th>\n",
       "      <td>UK</td>\n",
       "      <td>Python</td>\n",
       "    </tr>\n",
       "    <tr>\n",
       "      <th>1</th>\n",
       "      <td>Canada</td>\n",
       "      <td>Data Structures</td>\n",
       "    </tr>\n",
       "    <tr>\n",
       "      <th>2</th>\n",
       "      <td>China</td>\n",
       "      <td>Machine Learning</td>\n",
       "    </tr>\n",
       "    <tr>\n",
       "      <th>3</th>\n",
       "      <td>USA</td>\n",
       "      <td>Web Development</td>\n",
       "    </tr>\n",
       "  </tbody>\n",
       "</table>\n",
       "</div>"
      ],
      "text/plain": [
       "  Country            Course\n",
       "0      UK            Python\n",
       "1  Canada   Data Structures\n",
       "2   China  Machine Learning\n",
       "3     USA   Web Development"
      ]
     },
     "execution_count": 13,
     "metadata": {},
     "output_type": "execute_result"
    }
   ],
   "source": [
    "# Assign 'Country' and 'Course' columns to the variable 'c'\n",
    "\n",
    "c = Students_DataFrame[['Country', 'Course']]\n",
    "c"
   ]
  },
  {
   "cell_type": "markdown",
   "id": "759b83b0-c424-4e4e-bf9b-15dabd1a2805",
   "metadata": {},
   "source": [
    "#### To view the column as a series, just use one bracket:"
   ]
  },
  {
   "cell_type": "code",
   "execution_count": 15,
   "id": "7473c1c2-a014-4952-be98-d456d7d5f4b6",
   "metadata": {},
   "outputs": [
    {
     "data": {
      "text/plain": [
       "0     David\n",
       "1    Samuel\n",
       "2     Terry\n",
       "3      Evan\n",
       "Name: Student, dtype: object"
      ]
     },
     "execution_count": 15,
     "metadata": {},
     "output_type": "execute_result"
    }
   ],
   "source": [
    "# Get the 'Student' column as a series Object\n",
    "\n",
    "x = Students_DataFrame['Student']\n",
    "x"
   ]
  },
  {
   "cell_type": "code",
   "execution_count": 16,
   "id": "af039a8c-a1ac-4bd4-9cad-27703391654b",
   "metadata": {},
   "outputs": [
    {
     "data": {
      "text/plain": [
       "pandas.core.series.Series"
      ]
     },
     "execution_count": 16,
     "metadata": {},
     "output_type": "execute_result"
    }
   ],
   "source": [
    "# Check the type of 'x'\n",
    "\n",
    "type(x)"
   ]
  },
  {
   "cell_type": "markdown",
   "id": "b24b7f35-e8de-45d7-bfc5-8d9ca62b61a5",
   "metadata": {},
   "source": [
    "The output shows us that the type of the cariable is a series Object"
   ]
  },
  {
   "cell_type": "markdown",
   "id": "f9ffd4d3-c1dd-4c04-a417-d84c9b4b3589",
   "metadata": {},
   "source": [
    "## Exercise 2: `loc()` and `iloc()` functions\n",
    "\n",
    "`loc()` is a label-based data selecting method which means that we have to pass the name of the row or column that we want to select. This method includes the last element of the range passed in it\n",
    "\n",
    "Simple syntax for our understanding:\n",
    "* loc[row_label, column_label]\n",
    "\n",
    "`iloc()` is an indexed-based selecting method which means that we have to pass an integer index in the method to select a specific row/column. This method does not include the last element of the range passed in it\n",
    "\n",
    "Simple syntax for our understanding:\n",
    "* iloc[row_index, column_index]\n",
    "\n",
    "#### Let's see some examples on the same:"
   ]
  },
  {
   "cell_type": "code",
   "execution_count": 19,
   "id": "6128031e-3057-45f1-b382-7dc8ddf5aa99",
   "metadata": {},
   "outputs": [
    {
     "data": {
      "text/plain": [
       "'Rose'"
      ]
     },
     "execution_count": 19,
     "metadata": {},
     "output_type": "execute_result"
    }
   ],
   "source": [
    "# Access the value on the first row and the first column\n",
    "\n",
    "df.iloc[0, 0]"
   ]
  },
  {
   "cell_type": "code",
   "execution_count": 18,
   "id": "f9e5ed49-6bbc-4500-9bb8-d56d5cc57c0b",
   "metadata": {},
   "outputs": [
    {
     "data": {
      "text/plain": [
       "'Architecture Group'"
      ]
     },
     "execution_count": 18,
     "metadata": {},
     "output_type": "execute_result"
    }
   ],
   "source": [
    "# Access the value on the first row and the third column\n",
    "\n",
    "df.iloc[0, 2]"
   ]
  },
  {
   "cell_type": "code",
   "execution_count": 20,
   "id": "bfe50a35-80f1-48a1-8c75-c9a1050e0ec8",
   "metadata": {},
   "outputs": [
    {
     "data": {
      "text/plain": [
       "np.int64(100000)"
      ]
     },
     "execution_count": 20,
     "metadata": {},
     "output_type": "execute_result"
    }
   ],
   "source": [
    "# Access the column using the column name\n",
    "\n",
    "df.loc[0, 'Salary']"
   ]
  },
  {
   "cell_type": "markdown",
   "id": "dcf6b682-a5aa-4749-87dc-fa27578e59af",
   "metadata": {},
   "source": [
    "Let's create a new DataFrame called 'df2' and assign 'df' to it. Then, let's use the 'Name' column as an index column using the method set_index()"
   ]
  },
  {
   "cell_type": "code",
   "execution_count": 21,
   "id": "8983b1c6-ba37-4d0d-9a0b-244001c49e1e",
   "metadata": {},
   "outputs": [],
   "source": [
    "df2 = df\n",
    "\n",
    "df2 = df2.set_index('Name')"
   ]
  },
  {
   "cell_type": "code",
   "execution_count": 22,
   "id": "c5e5227c-37a4-4a35-96ad-915016961dba",
   "metadata": {},
   "outputs": [
    {
     "data": {
      "text/html": [
       "<div>\n",
       "<style scoped>\n",
       "    .dataframe tbody tr th:only-of-type {\n",
       "        vertical-align: middle;\n",
       "    }\n",
       "\n",
       "    .dataframe tbody tr th {\n",
       "        vertical-align: top;\n",
       "    }\n",
       "\n",
       "    .dataframe thead th {\n",
       "        text-align: right;\n",
       "    }\n",
       "</style>\n",
       "<table border=\"1\" class=\"dataframe\">\n",
       "  <thead>\n",
       "    <tr style=\"text-align: right;\">\n",
       "      <th></th>\n",
       "      <th>ID</th>\n",
       "      <th>Department</th>\n",
       "      <th>Salary</th>\n",
       "    </tr>\n",
       "    <tr>\n",
       "      <th>Name</th>\n",
       "      <th></th>\n",
       "      <th></th>\n",
       "      <th></th>\n",
       "    </tr>\n",
       "  </thead>\n",
       "  <tbody>\n",
       "    <tr>\n",
       "      <th>Rose</th>\n",
       "      <td>1</td>\n",
       "      <td>Architecture Group</td>\n",
       "      <td>100000</td>\n",
       "    </tr>\n",
       "    <tr>\n",
       "      <th>John</th>\n",
       "      <td>2</td>\n",
       "      <td>Software Group</td>\n",
       "      <td>80000</td>\n",
       "    </tr>\n",
       "    <tr>\n",
       "      <th>Jane</th>\n",
       "      <td>3</td>\n",
       "      <td>Design Team</td>\n",
       "      <td>50000</td>\n",
       "    </tr>\n",
       "    <tr>\n",
       "      <th>Mary</th>\n",
       "      <td>4</td>\n",
       "      <td>Infrastructure</td>\n",
       "      <td>60000</td>\n",
       "    </tr>\n",
       "  </tbody>\n",
       "</table>\n",
       "</div>"
      ],
      "text/plain": [
       "      ID          Department  Salary\n",
       "Name                                \n",
       "Rose   1  Architecture Group  100000\n",
       "John   2      Software Group   80000\n",
       "Jane   3         Design Team   50000\n",
       "Mary   4      Infrastructure   60000"
      ]
     },
     "execution_count": 22,
     "metadata": {},
     "output_type": "execute_result"
    }
   ],
   "source": [
    "# To display the first 5 rows of the new DataFrame (df2)\n",
    "\n",
    "df2.head()"
   ]
  },
  {
   "cell_type": "code",
   "execution_count": 23,
   "id": "b5c1b5f8-67f9-4424-810e-7c563772fa18",
   "metadata": {},
   "outputs": [
    {
     "data": {
      "text/plain": [
       "np.int64(50000)"
      ]
     },
     "execution_count": 23,
     "metadata": {},
     "output_type": "execute_result"
    }
   ],
   "source": [
    "# Now, let's access the column using the name\n",
    "\n",
    "df2.loc['Jane', 'Salary']"
   ]
  },
  {
   "cell_type": "markdown",
   "id": "9395bc65-7c45-4982-a899-83d18eeca0fc",
   "metadata": {},
   "source": [
    "### Try it Yourself\n",
    "\n",
    "Use the `loc()` function to get the department of Jane in the newly created DataFrame, df2"
   ]
  },
  {
   "cell_type": "code",
   "execution_count": 24,
   "id": "f27e6228-d4f6-42fd-9257-413dc5378543",
   "metadata": {},
   "outputs": [
    {
     "data": {
      "text/plain": [
       "'Design Team'"
      ]
     },
     "execution_count": 24,
     "metadata": {},
     "output_type": "execute_result"
    }
   ],
   "source": [
    "# Use loc() to retrieve Jane's department from df2\n",
    "\n",
    "df2.loc['Jane', 'Department']"
   ]
  },
  {
   "cell_type": "markdown",
   "id": "a9569e4d-9783-4567-8eac-b592261f046d",
   "metadata": {},
   "source": [
    "Use the `iloc()` function to get the salary of Mary in the newly created DataFrame, df2"
   ]
  },
  {
   "cell_type": "code",
   "execution_count": 29,
   "id": "d948e755-a43a-4c8b-8d5a-dff38f650f4c",
   "metadata": {},
   "outputs": [
    {
     "data": {
      "text/plain": [
       "np.int64(60000)"
      ]
     },
     "execution_count": 29,
     "metadata": {},
     "output_type": "execute_result"
    }
   ],
   "source": [
    "# Use iloc() to retrieve Mary's salary from df2\n",
    "\n",
    "df2.iloc[3, 2]"
   ]
  },
  {
   "cell_type": "markdown",
   "id": "a7924f14-66df-4964-a0ea-753bb77a6882",
   "metadata": {},
   "source": [
    "### Exercise 3: Slicing\n",
    "\n",
    "Slicing uses the [] operator to select a set of rows and/or columns from a DataFrame\n",
    "\n",
    "To slice out a set of rows, use the syntax: data[start:stop]\n",
    "\n",
    "Here the start represents the index from where to consider, and stop represents the index one step BEYOND the row you want to select. You can perform slicing using both the index and the name of the column\n",
    "\n",
    "` ` NOTE: When slicing in Pandas, the start bound is included in the output\n",
    "\n",
    "So if you want to select rows 0, 1, and 2, your code would look like this: df.iloc[0:3]\n",
    "\n",
    "It means you are telling Python to start at index 0 and select rows 0, 1, 2 up to, but not including, 3\n",
    "\n",
    "` ` NOTE: Labels must be found in the DataFrame or you will recieve a KeyError\n",
    "\n",
    "Indexing by labels (i.e. using `loc()`) differs from indexing by integers (i.e. using `iloc()`. With `loc()`, both the start bound and the stop bound are inclusive. When using `loc()`, integers can be used, but the integers refer to the index label and not the position\n",
    "\n",
    "For example, using `loc()` and selecting 1:4 will get a different result than using `iloc()` and selecting 1:4\n",
    "\n",
    "#### We can also slect a specific data value using a row and column location within the DataFram and iloc indexing"
   ]
  },
  {
   "cell_type": "code",
   "execution_count": 30,
   "id": "ca4dd37c-f834-4a20-aa05-1ef1669a7fbb",
   "metadata": {},
   "outputs": [
    {
     "data": {
      "text/html": [
       "<div>\n",
       "<style scoped>\n",
       "    .dataframe tbody tr th:only-of-type {\n",
       "        vertical-align: middle;\n",
       "    }\n",
       "\n",
       "    .dataframe tbody tr th {\n",
       "        vertical-align: top;\n",
       "    }\n",
       "\n",
       "    .dataframe thead th {\n",
       "        text-align: right;\n",
       "    }\n",
       "</style>\n",
       "<table border=\"1\" class=\"dataframe\">\n",
       "  <thead>\n",
       "    <tr style=\"text-align: right;\">\n",
       "      <th></th>\n",
       "      <th>Name</th>\n",
       "      <th>ID</th>\n",
       "      <th>Department</th>\n",
       "    </tr>\n",
       "  </thead>\n",
       "  <tbody>\n",
       "    <tr>\n",
       "      <th>0</th>\n",
       "      <td>Rose</td>\n",
       "      <td>1</td>\n",
       "      <td>Architecture Group</td>\n",
       "    </tr>\n",
       "    <tr>\n",
       "      <th>1</th>\n",
       "      <td>John</td>\n",
       "      <td>2</td>\n",
       "      <td>Software Group</td>\n",
       "    </tr>\n",
       "  </tbody>\n",
       "</table>\n",
       "</div>"
      ],
      "text/plain": [
       "   Name  ID          Department\n",
       "0  Rose   1  Architecture Group\n",
       "1  John   2      Software Group"
      ]
     },
     "execution_count": 30,
     "metadata": {},
     "output_type": "execute_result"
    }
   ],
   "source": [
    "# Let's do the slicing using the old DataFrame, df\n",
    "\n",
    "df.iloc[0:2, 0:3]"
   ]
  },
  {
   "cell_type": "code",
   "execution_count": 32,
   "id": "72bbe776-cd8d-4e49-8ffa-dd80fb195eec",
   "metadata": {},
   "outputs": [
    {
     "data": {
      "text/html": [
       "<div>\n",
       "<style scoped>\n",
       "    .dataframe tbody tr th:only-of-type {\n",
       "        vertical-align: middle;\n",
       "    }\n",
       "\n",
       "    .dataframe tbody tr th {\n",
       "        vertical-align: top;\n",
       "    }\n",
       "\n",
       "    .dataframe thead th {\n",
       "        text-align: right;\n",
       "    }\n",
       "</style>\n",
       "<table border=\"1\" class=\"dataframe\">\n",
       "  <thead>\n",
       "    <tr style=\"text-align: right;\">\n",
       "      <th></th>\n",
       "      <th>ID</th>\n",
       "      <th>Department</th>\n",
       "    </tr>\n",
       "  </thead>\n",
       "  <tbody>\n",
       "    <tr>\n",
       "      <th>0</th>\n",
       "      <td>1</td>\n",
       "      <td>Architecture Group</td>\n",
       "    </tr>\n",
       "    <tr>\n",
       "      <th>1</th>\n",
       "      <td>2</td>\n",
       "      <td>Software Group</td>\n",
       "    </tr>\n",
       "    <tr>\n",
       "      <th>2</th>\n",
       "      <td>3</td>\n",
       "      <td>Design Team</td>\n",
       "    </tr>\n",
       "  </tbody>\n",
       "</table>\n",
       "</div>"
      ],
      "text/plain": [
       "   ID          Department\n",
       "0   1  Architecture Group\n",
       "1   2      Software Group\n",
       "2   3         Design Team"
      ]
     },
     "execution_count": 32,
     "metadata": {},
     "output_type": "execute_result"
    }
   ],
   "source": [
    "# Let's do the slicing using the loc() function on the old DataFrame, df, where index column is having labels as 0, 1, 2\n",
    "\n",
    "df.loc[0:2, 'ID' : 'Department']"
   ]
  },
  {
   "cell_type": "code",
   "execution_count": 33,
   "id": "326c6a86-1af2-46cd-9288-3bdf3d20ddd2",
   "metadata": {},
   "outputs": [
    {
     "data": {
      "text/html": [
       "<div>\n",
       "<style scoped>\n",
       "    .dataframe tbody tr th:only-of-type {\n",
       "        vertical-align: middle;\n",
       "    }\n",
       "\n",
       "    .dataframe tbody tr th {\n",
       "        vertical-align: top;\n",
       "    }\n",
       "\n",
       "    .dataframe thead th {\n",
       "        text-align: right;\n",
       "    }\n",
       "</style>\n",
       "<table border=\"1\" class=\"dataframe\">\n",
       "  <thead>\n",
       "    <tr style=\"text-align: right;\">\n",
       "      <th></th>\n",
       "      <th>ID</th>\n",
       "      <th>Department</th>\n",
       "    </tr>\n",
       "    <tr>\n",
       "      <th>Name</th>\n",
       "      <th></th>\n",
       "      <th></th>\n",
       "    </tr>\n",
       "  </thead>\n",
       "  <tbody>\n",
       "    <tr>\n",
       "      <th>Rose</th>\n",
       "      <td>1</td>\n",
       "      <td>Architecture Group</td>\n",
       "    </tr>\n",
       "    <tr>\n",
       "      <th>John</th>\n",
       "      <td>2</td>\n",
       "      <td>Software Group</td>\n",
       "    </tr>\n",
       "    <tr>\n",
       "      <th>Jane</th>\n",
       "      <td>3</td>\n",
       "      <td>Design Team</td>\n",
       "    </tr>\n",
       "  </tbody>\n",
       "</table>\n",
       "</div>"
      ],
      "text/plain": [
       "      ID          Department\n",
       "Name                        \n",
       "Rose   1  Architecture Group\n",
       "John   2      Software Group\n",
       "Jane   3         Design Team"
      ]
     },
     "execution_count": 33,
     "metadata": {},
     "output_type": "execute_result"
    }
   ],
   "source": [
    "# Let's do the slicing using the loc() function on the new DataFrame, df2, where index column is 'Name' having labels: 'Rose', 'John', and 'Jane'\n",
    "\n",
    "df2.loc['Rose' : 'Jane', 'ID' : 'Department']"
   ]
  },
  {
   "cell_type": "markdown",
   "id": "f9204fdf-c2c6-4777-870a-169bfb654023",
   "metadata": {},
   "source": [
    "## Try it Myself\n",
    "\n",
    "Using the `loc()` function, do slicing on the old DataFrame, df, to retrieve the 'Name', 'ID', and 'Department' of index column having labels as 2, 3"
   ]
  },
  {
   "cell_type": "code",
   "execution_count": 34,
   "id": "8c9bf99d-52b6-4d98-82d5-16fccd7e3684",
   "metadata": {},
   "outputs": [
    {
     "data": {
      "text/html": [
       "<div>\n",
       "<style scoped>\n",
       "    .dataframe tbody tr th:only-of-type {\n",
       "        vertical-align: middle;\n",
       "    }\n",
       "\n",
       "    .dataframe tbody tr th {\n",
       "        vertical-align: top;\n",
       "    }\n",
       "\n",
       "    .dataframe thead th {\n",
       "        text-align: right;\n",
       "    }\n",
       "</style>\n",
       "<table border=\"1\" class=\"dataframe\">\n",
       "  <thead>\n",
       "    <tr style=\"text-align: right;\">\n",
       "      <th></th>\n",
       "      <th>Name</th>\n",
       "      <th>ID</th>\n",
       "      <th>Department</th>\n",
       "    </tr>\n",
       "  </thead>\n",
       "  <tbody>\n",
       "    <tr>\n",
       "      <th>2</th>\n",
       "      <td>Jane</td>\n",
       "      <td>3</td>\n",
       "      <td>Design Team</td>\n",
       "    </tr>\n",
       "    <tr>\n",
       "      <th>3</th>\n",
       "      <td>Mary</td>\n",
       "      <td>4</td>\n",
       "      <td>Infrastructure</td>\n",
       "    </tr>\n",
       "  </tbody>\n",
       "</table>\n",
       "</div>"
      ],
      "text/plain": [
       "   Name  ID      Department\n",
       "2  Jane   3     Design Team\n",
       "3  Mary   4  Infrastructure"
      ]
     },
     "execution_count": 34,
     "metadata": {},
     "output_type": "execute_result"
    }
   ],
   "source": [
    "# Retrieve 'Name', 'ID', and 'Department' of index columns with labels 2, 3\n",
    "\n",
    "df.loc[2 : 3, 'Name' : 'Department']"
   ]
  },
  {
   "cell_type": "code",
   "execution_count": null,
   "id": "42867941-0ea8-4756-877d-97caf3dce9bc",
   "metadata": {},
   "outputs": [],
   "source": []
  }
 ],
 "metadata": {
  "kernelspec": {
   "display_name": "Python 3 (ipykernel)",
   "language": "python",
   "name": "python3"
  },
  "language_info": {
   "codemirror_mode": {
    "name": "ipython",
    "version": 3
   },
   "file_extension": ".py",
   "mimetype": "text/x-python",
   "name": "python",
   "nbconvert_exporter": "python",
   "pygments_lexer": "ipython3",
   "version": "3.12.6"
  }
 },
 "nbformat": 4,
 "nbformat_minor": 5
}
