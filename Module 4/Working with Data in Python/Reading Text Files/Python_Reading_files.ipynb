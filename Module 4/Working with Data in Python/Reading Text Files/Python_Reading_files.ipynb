{
 "cells": [
  {
   "cell_type": "markdown",
   "id": "fc9cb65b-c5d4-4442-be3e-cd25db21b9b7",
   "metadata": {},
   "source": [
    "## **Objectives**\n",
    "\n",
    "After completing this lab you will be able to:\n",
    "\n",
    "* Read text files using Python libraries\n"
   ]
  },
  {
   "cell_type": "markdown",
   "id": "2a493700-ddb7-4e76-a155-5374b9b1ba8a",
   "metadata": {},
   "source": [
    "---"
   ]
  },
  {
   "cell_type": "markdown",
   "id": "e94f3606-7935-4ef6-b195-e59a2788f3d6",
   "metadata": {},
   "source": [
    "## Download Data"
   ]
  },
  {
   "cell_type": "code",
   "execution_count": 2,
   "id": "4332ec68-4eb7-43a8-85fa-baec3da56605",
   "metadata": {},
   "outputs": [
    {
     "name": "stdout",
     "output_type": "stream",
     "text": [
      "Downloaded Example1.txt\n"
     ]
    }
   ],
   "source": [
    "# Uncomment these if working locally, else let the following code cell run.\n",
    "\n",
    "import urllib.request\n",
    "\n",
    "url = 'https://cf-courses-data.s3.us.cloud-object-storage.appdomain.cloud/IBMDeveloperSkillsNetwork-PY0101EN-SkillsNetwork/labs/Module%204/data/example1.txt'\n",
    "filename = 'Example1.txt'\n",
    "urllib.request.urlretrieve(url, filename)\n",
    "\n",
    "## Download Example file\n",
    "print(f\"Downloaded {filename}\")"
   ]
  },
  {
   "cell_type": "markdown",
   "id": "e16ad8ae-483f-4e04-9759-c83d3870a038",
   "metadata": {},
   "source": [
    "---"
   ]
  },
  {
   "cell_type": "markdown",
   "id": "eac0c4bc-2ad8-488d-a9c0-d7b40f7928af",
   "metadata": {},
   "source": [
    "## Reading Text Files"
   ]
  },
  {
   "cell_type": "markdown",
   "id": "3ef7e35b-dcdf-4d51-97f3-3d3fec5a92fd",
   "metadata": {},
   "source": [
    "One way to read or write a file in Python is to use the built-in `open` function. The `open` function provides a **File object** that contains the methods and attributes you need in order to read, save, and manipulate the file. In this notebook, we will only cover **.txt** files. The first parameter you need is the file path and the file name. An example is shown as follow:"
   ]
  },
  {
   "cell_type": "markdown",
   "id": "18142d4b-5dcc-407c-8a51-b91d66486583",
   "metadata": {},
   "source": [
    "<img src=\"https://cf-courses-data.s3.us.cloud-object-storage.appdomain.cloud/IBMDeveloperSkillsNetwork-PY0101EN-SkillsNetwork/labs/Module%204/images/ReadOpen.png\" width=\"500\">"
   ]
  },
  {
   "cell_type": "markdown",
   "id": "0e1b6d4c-bbe8-42f9-b32d-f1044e9935db",
   "metadata": {},
   "source": [
    "The mode argument is optional and the default value is **r**. In this notebook we only cover two modes:\n",
    "\n",
    "<ul>\n",
    "    <li>**r**: Read mode for reading files </li>\n",
    "    <li>**w**: Write mode for writing files</li>\n",
    "</ul>"
   ]
  },
  {
   "cell_type": "markdown",
   "id": "07226200-436b-4ac8-afd7-d1cf6c672088",
   "metadata": {},
   "source": [
    "For the next example, we will use the text file **Example1.txt**. The file is shown as follows:"
   ]
  },
  {
   "cell_type": "markdown",
   "id": "ff7f5c5d-e400-4097-ad87-c02ca91920c1",
   "metadata": {},
   "source": [
    "<img src=\"https://cf-courses-data.s3.us.cloud-object-storage.appdomain.cloud/IBMDeveloperSkillsNetwork-PY0101EN-SkillsNetwork/labs/Module%204/images/ReadFile.png\" width=\"100\">"
   ]
  },
  {
   "cell_type": "markdown",
   "id": "bc3508db-9582-4c59-a128-ea85e8caa106",
   "metadata": {},
   "source": [
    "We read the file:"
   ]
  },
  {
   "cell_type": "code",
   "execution_count": 5,
   "id": "70511518-0d69-4691-b0e9-5743cdce2f12",
   "metadata": {},
   "outputs": [],
   "source": [
    "# Read the Example1.txt\n",
    "\n",
    "example1 = \"example1.txt\"\n",
    "file1 = open(example1, \"r\")"
   ]
  },
  {
   "cell_type": "markdown",
   "id": "43ce59de-42ca-4110-ad44-ec00ec316ec2",
   "metadata": {},
   "source": [
    "We can view the attributes of the file."
   ]
  },
  {
   "cell_type": "markdown",
   "id": "94a7d01e-ef95-4386-910f-db4715b4a7de",
   "metadata": {},
   "source": [
    "The name of the file:"
   ]
  },
  {
   "cell_type": "code",
   "execution_count": 6,
   "id": "db929241-583e-46f6-bff7-23478e895546",
   "metadata": {},
   "outputs": [
    {
     "data": {
      "text/plain": [
       "'example1.txt'"
      ]
     },
     "execution_count": 6,
     "metadata": {},
     "output_type": "execute_result"
    }
   ],
   "source": [
    "# Print the path of file\n",
    "\n",
    "file1.name"
   ]
  },
  {
   "cell_type": "markdown",
   "id": "b37d46e3-239a-4afc-8369-d9e3aad87801",
   "metadata": {},
   "source": [
    "The mode the file object is in:"
   ]
  },
  {
   "cell_type": "code",
   "execution_count": 7,
   "id": "1324306c-d033-4d60-9fca-8c1b9898623c",
   "metadata": {},
   "outputs": [
    {
     "data": {
      "text/plain": [
       "'r'"
      ]
     },
     "execution_count": 7,
     "metadata": {},
     "output_type": "execute_result"
    }
   ],
   "source": [
    "# Print the mode of file, either 'r' or 'w'\n",
    "\n",
    "file1.mode"
   ]
  },
  {
   "cell_type": "markdown",
   "id": "f8d5028d-ce16-4ee5-a7db-dcf8d5a54d43",
   "metadata": {},
   "source": [
    "We can read the file and assign it to a variable :"
   ]
  },
  {
   "cell_type": "code",
   "execution_count": 8,
   "id": "b1a8831b-fdd5-4355-8c4f-3900f34a416c",
   "metadata": {},
   "outputs": [
    {
     "data": {
      "text/plain": [
       "'This is line 1 \\nThis is line 2\\nThis is line 3'"
      ]
     },
     "execution_count": 8,
     "metadata": {},
     "output_type": "execute_result"
    }
   ],
   "source": [
    "# Read the file\n",
    "\n",
    "FileContent = file1.read()\n",
    "FileContent"
   ]
  },
  {
   "cell_type": "markdown",
   "id": "47f212b1-dbc9-435f-b086-601c8a4f9058",
   "metadata": {},
   "source": [
    "The **/n** means that there is a new line."
   ]
  },
  {
   "cell_type": "markdown",
   "id": "b7cffff4-8f10-4a33-88aa-c4b77cc64bcb",
   "metadata": {},
   "source": [
    "We can print the file:"
   ]
  },
  {
   "cell_type": "code",
   "execution_count": 9,
   "id": "03669107-695c-46cd-bc2e-f5cc1b3f64cd",
   "metadata": {},
   "outputs": [
    {
     "name": "stdout",
     "output_type": "stream",
     "text": [
      "This is line 1 \n",
      "This is line 2\n",
      "This is line 3\n"
     ]
    }
   ],
   "source": [
    "# Print the file with '\\n' as a new line\n",
    "\n",
    "print(FileContent)"
   ]
  },
  {
   "cell_type": "markdown",
   "id": "7c376b60-f26a-46d8-a04d-636de8b6eb98",
   "metadata": {},
   "source": [
    "The file is of type string:"
   ]
  },
  {
   "cell_type": "code",
   "execution_count": 10,
   "id": "70562402-bac0-4fc1-9fac-bf1e4b1f3ccb",
   "metadata": {},
   "outputs": [
    {
     "data": {
      "text/plain": [
       "str"
      ]
     },
     "execution_count": 10,
     "metadata": {},
     "output_type": "execute_result"
    }
   ],
   "source": [
    "# Print out the type of the file content\n",
    "\n",
    "type(FileContent)"
   ]
  },
  {
   "cell_type": "markdown",
   "id": "a2db7a4e-fb20-46d1-bb17-d5f07c887544",
   "metadata": {},
   "source": [
    "It is very important that the file is closed in the end. This frees up resources and ensures consistency across different Python versions."
   ]
  },
  {
   "cell_type": "code",
   "execution_count": 12,
   "id": "a137f891-e141-46bd-8cd3-465fa13ab764",
   "metadata": {},
   "outputs": [],
   "source": [
    "# Close the file after we are done using it\n",
    "\n",
    "file1.close()"
   ]
  },
  {
   "cell_type": "code",
   "execution_count": 1,
   "id": "0fcc50fa-ac2c-4a62-9357-f310cab6b6da",
   "metadata": {},
   "outputs": [
    {
     "name": "stdout",
     "output_type": "stream",
     "text": [
      "This is line 1 \n",
      "\n"
     ]
    }
   ],
   "source": [
    "with open(\"Example1.txt\",\"r\") as file1: \n",
    "\n",
    "     file_stuff=file1.readline() \n",
    "\n",
    "print(file_stuff) "
   ]
  },
  {
   "cell_type": "markdown",
   "id": "1ed0adae-4f66-4bc3-bfcf-6df0be687c8a",
   "metadata": {},
   "source": [
    "---"
   ]
  },
  {
   "cell_type": "markdown",
   "id": "a09c4c1f-09a0-4112-bbf0-85386f4f406f",
   "metadata": {},
   "source": [
    "## A Better Way to Open a File"
   ]
  },
  {
   "cell_type": "markdown",
   "id": "ea32fa23-f046-4a73-a806-deef412720b6",
   "metadata": {},
   "source": [
    "Using the `with` statement is better practice, it automatically closes the file even if the code encounters an exception. The code will run everything in the indent block then close the file object."
   ]
  },
  {
   "cell_type": "code",
   "execution_count": 16,
   "id": "20fe526b-d755-4e5e-acd3-4b799f955152",
   "metadata": {},
   "outputs": [
    {
     "name": "stdout",
     "output_type": "stream",
     "text": [
      "This is line 1 \n",
      "This is line 2\n",
      "This is line 3\n"
     ]
    }
   ],
   "source": [
    "# Open the file using the 'with' statement\n",
    "\n",
    "with open(example1, \"r\") as file1:\n",
    "    FileContent = file1.read()\n",
    "    print(FileContent)"
   ]
  },
  {
   "cell_type": "markdown",
   "id": "7498333d-780c-4f2b-8bfc-6d976a942880",
   "metadata": {},
   "source": [
    "The file object is closed, we can verify this by running the following cell:"
   ]
  },
  {
   "cell_type": "code",
   "execution_count": 17,
   "id": "fbebc98f-f00c-4d93-a89a-c8b3a6d76a89",
   "metadata": {},
   "outputs": [
    {
     "data": {
      "text/plain": [
       "True"
      ]
     },
     "execution_count": 17,
     "metadata": {},
     "output_type": "execute_result"
    }
   ],
   "source": [
    "# Verify the file has been successfully closed\n",
    "\n",
    "file1.closed"
   ]
  },
  {
   "cell_type": "markdown",
   "id": "57cd8097-ac2d-43ef-8ffc-5e1138323a71",
   "metadata": {},
   "source": [
    "We can see the info in the file:"
   ]
  },
  {
   "cell_type": "code",
   "execution_count": 18,
   "id": "24e3edab-1041-4bb4-9596-6dd103d55b9a",
   "metadata": {},
   "outputs": [
    {
     "name": "stdout",
     "output_type": "stream",
     "text": [
      "This is line 1 \n",
      "This is line 2\n",
      "This is line 3\n"
     ]
    }
   ],
   "source": [
    "# Check the contents of the file\n",
    "\n",
    "print(FileContent)"
   ]
  },
  {
   "cell_type": "markdown",
   "id": "cb09b86d-d1b2-4dca-96a6-7470d6c37dec",
   "metadata": {},
   "source": [
    "The syntax is a little confusing as the file object is after the `as` staement. We also don't explicitly close the file. Therefore we summarize the steps in a figure:"
   ]
  },
  {
   "cell_type": "markdown",
   "id": "12174fbf-6651-4aae-b7b0-c6e379474658",
   "metadata": {},
   "source": [
    "<img src=\"https://cf-courses-data.s3.us.cloud-object-storage.appdomain.cloud/IBMDeveloperSkillsNetwork-PY0101EN-SkillsNetwork/labs/Module%204/images/ReadWith.png\" width=\"500\">"
   ]
  },
  {
   "cell_type": "markdown",
   "id": "d979a296-1bf0-451b-9611-313ac5d35339",
   "metadata": {},
   "source": [
    "We don't have to read the entire file, for example, we can read the first 4 characters by entering three as a parameter to the method **.read()**"
   ]
  },
  {
   "cell_type": "code",
   "execution_count": 21,
   "id": "f9222397-45f9-45e5-b1cc-1a0073505096",
   "metadata": {},
   "outputs": [
    {
     "name": "stdout",
     "output_type": "stream",
     "text": [
      "This\n"
     ]
    }
   ],
   "source": [
    "# Read the first four characters in the file\n",
    "\n",
    "with open(example1, \"r\") as file1:\n",
    "    print(file1.read(4))"
   ]
  },
  {
   "cell_type": "markdown",
   "id": "1636d13d-b619-4924-beb8-fc96c0867f6d",
   "metadata": {},
   "source": [
    "Once the method `.read(4)` is called the first 4 characters are called. If we call the method again, the next 4 characters are called. The output for the following cell will demonstrate the process for different inputs to the method `read()`:"
   ]
  },
  {
   "cell_type": "code",
   "execution_count": 22,
   "id": "82fe406e-1eb3-46d3-8c6e-14eecc38b992",
   "metadata": {},
   "outputs": [
    {
     "name": "stdout",
     "output_type": "stream",
     "text": [
      "This\n",
      " is \n",
      "line 1 \n",
      "\n",
      "This is line 2\n"
     ]
    }
   ],
   "source": [
    "# Read different amounts of characters\n",
    "\n",
    "with open(example1,\"r\") as file1:\n",
    "    print(file1.read(4))\n",
    "    print(file1.read(4))\n",
    "    print(file1.read(7))\n",
    "    print(file1.read(15))"
   ]
  },
  {
   "cell_type": "markdown",
   "id": "5d39ab0a-1433-4d5b-bae3-2e16f31fb6d5",
   "metadata": {},
   "source": [
    "The process is illustrated in the below figure, and each color represents the part of the file read after the method `read()` is called:"
   ]
  },
  {
   "cell_type": "markdown",
   "id": "9391fd38-1ab5-43d5-a8e3-1b541d50c38d",
   "metadata": {},
   "source": [
    "<img src=\"https://cf-courses-data.s3.us.cloud-object-storage.appdomain.cloud/IBMDeveloperSkillsNetwork-PY0101EN-SkillsNetwork/labs/Module%204/images/read.png\" width=\"500\">\n"
   ]
  },
  {
   "cell_type": "markdown",
   "id": "e538628c-6c9b-49da-8190-f45f950905af",
   "metadata": {},
   "source": [
    "Here is an example of using the same file, but instead we read 16, 5, and then 9 characters at a time:"
   ]
  },
  {
   "cell_type": "code",
   "execution_count": 25,
   "id": "fadad2b4-06a4-4698-bef2-4bd2ddf34ad1",
   "metadata": {},
   "outputs": [
    {
     "name": "stdout",
     "output_type": "stream",
     "text": [
      "This is line 1 \n",
      "\n",
      "This \n",
      "is line 2\n"
     ]
    }
   ],
   "source": [
    "# Read different amounts of characters\n",
    "\n",
    "with open(example1,'r') as file1:\n",
    "    print(file1.read(16))\n",
    "    print(file1.read(5))\n",
    "    print(file1.read(9))"
   ]
  },
  {
   "cell_type": "markdown",
   "id": "4c1e4503-7117-4550-bdee-136c2b332325",
   "metadata": {},
   "source": [
    "We can also read one line of the file at a time using the method `readline()`:"
   ]
  },
  {
   "cell_type": "code",
   "execution_count": 28,
   "id": "56890153-c50f-4696-9c62-94a8af63129a",
   "metadata": {},
   "outputs": [
    {
     "name": "stdout",
     "output_type": "stream",
     "text": [
      "First line: This is line 1 \n",
      "\n"
     ]
    }
   ],
   "source": [
    "# Read one full line\n",
    "\n",
    "with open(example1,'r') as file1:\n",
    "    print(\"First line: \" + file1.readline())"
   ]
  },
  {
   "cell_type": "markdown",
   "id": "eacaac8e-b9f7-4366-b199-19a70d3c1a06",
   "metadata": {},
   "source": [
    "We can also pass an arguement to `readline()` to specify the number of characters we want to read. However, unlike `read()`, `readline()` can only read one line at most."
   ]
  },
  {
   "cell_type": "code",
   "execution_count": 27,
   "id": "7008938b-30aa-4996-9629-adf6b64a285c",
   "metadata": {},
   "outputs": [
    {
     "name": "stdout",
     "output_type": "stream",
     "text": [
      "This is line 1 \n",
      "\n",
      "This is line 2\n",
      "This \n"
     ]
    }
   ],
   "source": [
    "with open(example1,'r') as file1:\n",
    "\n",
    "    # Does not read past the end of the line\n",
    "    print(file1.readline(20))\n",
    "\n",
    "    # Returns the next 20 characters\n",
    "    print(file1.read(20))"
   ]
  },
  {
   "cell_type": "markdown",
   "id": "24557892-48be-43ae-a28f-d4c6d32ec179",
   "metadata": {},
   "source": [
    "We can use a loop to iterate through each line:"
   ]
  },
  {
   "cell_type": "code",
   "execution_count": 30,
   "id": "ff557a3f-fc46-4d94-b9e4-ff8292e0fb1f",
   "metadata": {},
   "outputs": [
    {
     "name": "stdout",
     "output_type": "stream",
     "text": [
      "Iteration 0 :  This is line 1 \n",
      "\n",
      "Iteration 1 :  This is line 2\n",
      "\n",
      "Iteration 2 :  This is line 3\n"
     ]
    }
   ],
   "source": [
    "# Iterate through each line using a for loop\n",
    "\n",
    "# Open te file\n",
    "with open(example1,'r') as file1:\n",
    "\n",
    "    # Set our for loop index variable\n",
    "    i = 0;\n",
    "\n",
    "    # Define our for loop, print the strings in increments, update index\n",
    "    for line in file1:\n",
    "        print(\"Iteration\", str(i), \": \", line)\n",
    "        i += 1"
   ]
  },
  {
   "cell_type": "markdown",
   "id": "0cb3b2a6-b4cd-49ee-a1f4-00a3a7a0b448",
   "metadata": {},
   "source": [
    "We can use the medthod `readlines()` to save the text file to a list:"
   ]
  },
  {
   "cell_type": "code",
   "execution_count": 41,
   "id": "b910dc92-39d7-4444-a5be-64668ee2dca3",
   "metadata": {},
   "outputs": [],
   "source": [
    "# Read all the lines from the text file and save them to a list\n",
    "\n",
    "with open(example1,'r') as file1:\n",
    "    FileAsList = file1.readlines()"
   ]
  },
  {
   "cell_type": "markdown",
   "id": "49673e3c-e578-490b-839a-1e83bb8f19b6",
   "metadata": {},
   "source": [
    "Each element of the list corresponds to a line of text:"
   ]
  },
  {
   "cell_type": "code",
   "execution_count": 42,
   "id": "16406744-1257-4d64-9c7b-03c73453f761",
   "metadata": {},
   "outputs": [
    {
     "data": {
      "text/plain": [
       "'This is line 1 \\n'"
      ]
     },
     "execution_count": 42,
     "metadata": {},
     "output_type": "execute_result"
    }
   ],
   "source": [
    "# Print the first line\n",
    "\n",
    "FileAsList[0]"
   ]
  },
  {
   "cell_type": "code",
   "execution_count": 43,
   "id": "f6e55d61-1516-480e-8d77-dafafaea53c4",
   "metadata": {},
   "outputs": [
    {
     "data": {
      "text/plain": [
       "'This is line 2\\n'"
      ]
     },
     "execution_count": 43,
     "metadata": {},
     "output_type": "execute_result"
    }
   ],
   "source": [
    "# Print the second line\n",
    "\n",
    "FileAsList[1]"
   ]
  },
  {
   "cell_type": "code",
   "execution_count": 34,
   "id": "0bd46773-1cd3-4c3f-a552-6c00e62a0af7",
   "metadata": {},
   "outputs": [
    {
     "data": {
      "text/plain": [
       "'This is line 3'"
      ]
     },
     "execution_count": 34,
     "metadata": {},
     "output_type": "execute_result"
    }
   ],
   "source": [
    "# Print the third line\n",
    "\n",
    "FileAsList[2]"
   ]
  },
  {
   "cell_type": "code",
   "execution_count": 44,
   "id": "68354dab-02b4-46ad-ab76-45538f2a9702",
   "metadata": {},
   "outputs": [
    {
     "data": {
      "text/plain": [
       "['This is line 1 \\n', 'This is line 2\\n', 'This is line 3']"
      ]
     },
     "execution_count": 44,
     "metadata": {},
     "output_type": "execute_result"
    }
   ],
   "source": [
    "# Print the entire list\n",
    "\n",
    "FileAsList"
   ]
  },
  {
   "cell_type": "code",
   "execution_count": 46,
   "id": "e3ab6ac4-10dd-453e-b396-c9fa6020e58f",
   "metadata": {},
   "outputs": [
    {
     "name": "stdout",
     "output_type": "stream",
     "text": [
      "['This is line 1', 'This is line 2', 'This is line 3']\n"
     ]
    }
   ],
   "source": [
    "# Remove '\\n' from each line\n",
    "\n",
    "FileAsList = [line.strip() for line in FileAsList]\n",
    "print(FileAsList)"
   ]
  },
  {
   "cell_type": "code",
   "execution_count": null,
   "id": "8a4acdb4-e6cc-466e-bb17-8ad351ac1a76",
   "metadata": {},
   "outputs": [],
   "source": []
  }
 ],
 "metadata": {
  "kernelspec": {
   "display_name": "Python 3 (ipykernel)",
   "language": "python",
   "name": "python3"
  },
  "language_info": {
   "codemirror_mode": {
    "name": "ipython",
    "version": 3
   },
   "file_extension": ".py",
   "mimetype": "text/x-python",
   "name": "python",
   "nbconvert_exporter": "python",
   "pygments_lexer": "ipython3",
   "version": "3.12.6"
  }
 },
 "nbformat": 4,
 "nbformat_minor": 5
}
