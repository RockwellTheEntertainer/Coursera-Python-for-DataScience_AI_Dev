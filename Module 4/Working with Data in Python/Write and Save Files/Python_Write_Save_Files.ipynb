{
 "cells": [
  {
   "cell_type": "markdown",
   "id": "44d03b87-fec4-44e6-ad22-4d1dccb4ea80",
   "metadata": {},
   "source": [
    "## **Objectives**\n",
    "\n",
    "After completing this lab you will be able to:\n",
    "\n",
    "* Write to files using Python libraries"
   ]
  },
  {
   "cell_type": "markdown",
   "id": "3ace2f29-c546-4040-aa37-42afbc4ffec7",
   "metadata": {},
   "source": [
    "## Writing Files\n",
    "\n",
    "We can open a file object using the method `write()` to save the text file to a list. To write to a file, the mode argument must be set to **w**. Let's write a file **Example2.txt** with the line: **\"This is line A\"**"
   ]
  },
  {
   "cell_type": "code",
   "execution_count": 6,
   "id": "7c51b175-0500-4242-a283-5e3b0bc96a9a",
   "metadata": {},
   "outputs": [],
   "source": [
    "# Write line to file\n",
    "\n",
    "exmp2 = 'C:/Users/matth/OneDrive/Personal/Repositories/Coursera/Python for DataScience_AI_Dev/Module 4/Working with Data in Python/Write and Save Files/Example2.txt'\n",
    "\n",
    "with open(exmp2, 'w') as writefile:\n",
    "    writefile.write(\"This is line A\")"
   ]
  },
  {
   "cell_type": "markdown",
   "id": "88da3d4d-68b3-4e31-a342-fe274a1bfe9e",
   "metadata": {},
   "source": [
    "We can read the file to see if it worked:"
   ]
  },
  {
   "cell_type": "code",
   "execution_count": 7,
   "id": "f9b55f9f-2ce0-4b80-84e5-98808e4055a8",
   "metadata": {},
   "outputs": [
    {
     "name": "stdout",
     "output_type": "stream",
     "text": [
      "This is line A\n"
     ]
    }
   ],
   "source": [
    "# Read the newly created 'Example2.txt' file we created\n",
    "\n",
    "with open(exmp2, 'r') as TestWriteFile:\n",
    "    print(TestWriteFile.read())"
   ]
  },
  {
   "cell_type": "markdown",
   "id": "79401991-6073-4239-9abd-c14e4e0f99b1",
   "metadata": {},
   "source": [
    "We can write multiple lines:"
   ]
  },
  {
   "cell_type": "code",
   "execution_count": 8,
   "id": "c98ed224-c5e1-4454-841c-2a92e75926c7",
   "metadata": {},
   "outputs": [],
   "source": [
    "# Write multiple lines to a file\n",
    "\n",
    "with open(exmp2, 'w') as writefile:\n",
    "    writefile.write(\"This is line A\\n\")\n",
    "    writefile.write(\"This is line B\\n\")"
   ]
  },
  {
   "cell_type": "markdown",
   "id": "05b3f014-eb22-4e34-92b0-86e857cf63e6",
   "metadata": {},
   "source": [
    "The method `.write()` works similar to the method `.readline()`, except instead of reading a new line it writes a new line. The process is illustrated in the figure. The different color coding of the grid represents a new line added to the file after each method is call.\n",
    "\n",
    "<img src=\"https://cf-courses-data.s3.us.cloud-object-storage.appdomain.cloud/IBMDeveloperSkillsNetwork-PY0101EN-SkillsNetwork/labs/Module%204/images/WriteLine.png\" width=\"500\">\n",
    "\n",
    "You can check the file to see if your results are correct:"
   ]
  },
  {
   "cell_type": "code",
   "execution_count": 9,
   "id": "2df2b995-9468-4281-8f32-caab8ed835b7",
   "metadata": {},
   "outputs": [
    {
     "name": "stdout",
     "output_type": "stream",
     "text": [
      "This is line A\n",
      "This is line B\n",
      "\n"
     ]
    }
   ],
   "source": [
    "# Check whether write to file results are correct\n",
    "\n",
    "with open(exmp2, 'r') as TestWriteFile:\n",
    "    print(TestWriteFile.read())"
   ]
  },
  {
   "cell_type": "markdown",
   "id": "cc8454c7-7bce-4341-833f-4ec170e2f209",
   "metadata": {},
   "source": [
    "We write a list to a **.txt** file as follows:"
   ]
  },
  {
   "cell_type": "code",
   "execution_count": 10,
   "id": "e955579b-dcc9-4dfa-a43f-b96286631aa3",
   "metadata": {},
   "outputs": [
    {
     "data": {
      "text/plain": [
       "['This is line A\\n', 'This is line B\\n', 'This is line C\\n']"
      ]
     },
     "execution_count": 10,
     "metadata": {},
     "output_type": "execute_result"
    }
   ],
   "source": [
    "# Sample list of text\n",
    "\n",
    "Lines = [\"This is line A\\n\", \"This is line B\\n\", \"This is line C\\n\"]\n",
    "\n",
    "Lines"
   ]
  },
  {
   "cell_type": "code",
   "execution_count": 12,
   "id": "ab771b99-a0e8-4bd0-9e27-3b7ff7865d9b",
   "metadata": {},
   "outputs": [
    {
     "name": "stdout",
     "output_type": "stream",
     "text": [
      "This is line A\n",
      "\n",
      "This is line B\n",
      "\n",
      "This is line C\n",
      "\n"
     ]
    }
   ],
   "source": [
    "# Write the strings in the list to a text file\n",
    "\n",
    "with open (exmp2, 'w') as WriteFile:\n",
    "    for line in Lines:\n",
    "        print(line)\n",
    "        WriteFile.write(line)"
   ]
  },
  {
   "cell_type": "markdown",
   "id": "5d6826f7-b301-4ace-b97b-415e868fc632",
   "metadata": {},
   "source": [
    "We can verify the file is written by reading it and printing out the values:"
   ]
  },
  {
   "cell_type": "code",
   "execution_count": 13,
   "id": "6fe7a656-57fd-41b7-9011-c563500caa10",
   "metadata": {},
   "outputs": [
    {
     "name": "stdout",
     "output_type": "stream",
     "text": [
      "This is line A\n",
      "This is line B\n",
      "This is line C\n",
      "\n"
     ]
    }
   ],
   "source": [
    "# Verify we successfully wrote to the Example2 file\n",
    "\n",
    "with open(exmp2, 'r') as TestWriteFile:\n",
    "    print(TestWriteFile.read())"
   ]
  },
  {
   "cell_type": "markdown",
   "id": "de9b4a6b-952b-4a3e-a992-89f85bccf6ed",
   "metadata": {},
   "source": [
    "However, note that setting the mode to **w** overwrites all the existing data in the file"
   ]
  },
  {
   "cell_type": "code",
   "execution_count": 14,
   "id": "9408e9e9-dbed-48a2-9255-f43b6d2d00f8",
   "metadata": {},
   "outputs": [
    {
     "name": "stdout",
     "output_type": "stream",
     "text": [
      "Overwrite\n",
      "\n"
     ]
    }
   ],
   "source": [
    "with open(exmp2, 'w') as WriteFile:\n",
    "    WriteFile.write(\"Overwrite\\n\")\n",
    "\n",
    "with open(exmp2, 'r') as TestWriteFile:\n",
    "    print(TestWriteFile.read())"
   ]
  },
  {
   "cell_type": "markdown",
   "id": "0c915995-45f6-4664-af69-dc701765648c",
   "metadata": {},
   "source": [
    "## Appending Files\n",
    "\n",
    "We can write to files without losing any of the existing data as follows by setting the mode arguement to append: **a**. You can append a new line as follows:"
   ]
  },
  {
   "cell_type": "code",
   "execution_count": 15,
   "id": "d79d6012-aa57-4042-8482-238c8cd3cb0d",
   "metadata": {},
   "outputs": [],
   "source": [
    "# Write a new line to text file\n",
    "\n",
    "with open(exmp2, 'a') as TestWriteFile:\n",
    "    TestWriteFile.write(\"This is line C\\n\")\n",
    "    TestWriteFile.write(\"This is line D\\n\")\n",
    "    TestWriteFile.write(\"This is line E\\n\")"
   ]
  },
  {
   "cell_type": "markdown",
   "id": "a112c317-3788-417d-894d-96fddc5c7b53",
   "metadata": {},
   "source": [
    "We can verify the file has changed by running the following cell:"
   ]
  },
  {
   "cell_type": "code",
   "execution_count": 19,
   "id": "4fbd6996-829b-485c-b080-173633e60b03",
   "metadata": {},
   "outputs": [
    {
     "name": "stdout",
     "output_type": "stream",
     "text": [
      "Overwrite\n",
      "This is line C\n",
      "This is line D\n",
      "This is line E\n",
      "This is line E\n",
      "This is line E\n",
      "\n"
     ]
    }
   ],
   "source": [
    "# Verify if the new line is in the text file\n",
    "\n",
    "with open(exmp2, 'r') as TestWriteFile:\n",
    "    print(TestWriteFile.read())"
   ]
  },
  {
   "cell_type": "markdown",
   "id": "fa9cd31b-6e1f-4fc4-b54b-a60af8e246e9",
   "metadata": {},
   "source": [
    "## Additional Modes\n",
    "\n",
    "It's fairly inefficient to open the file in **a** or **w** and then reopening it in **r** to read any lines. Fortunately we can access the file in the following modes:\n",
    "\n",
    "* **r+**: Reading and writing. Cannot truncate the file.\n",
    "* **w+**: Writing and reading. Truncates the file.\n",
    "* **a+**: Appending and reading. Creates a new file if none exists. You don't have to dwell on the specifics of each mode for this lab.\n",
    "\n",
    "Let's try out the **a+** mode:"
   ]
  },
  {
   "cell_type": "code",
   "execution_count": 23,
   "id": "a742e8ce-bcaf-4b91-9cdd-e9a57a94a2cc",
   "metadata": {},
   "outputs": [
    {
     "name": "stdout",
     "output_type": "stream",
     "text": [
      "\n"
     ]
    }
   ],
   "source": [
    "with open(exmp2, \"a+\") as TestWriteFile:\n",
    "    TestWriteFile.write(\"This is line E\\n\")\n",
    "\n",
    "    # The print function below will NOT work\n",
    "    print(TestWriteFile.read())"
   ]
  },
  {
   "cell_type": "markdown",
   "id": "e912e730-42f8-4d14-815d-0f3cdcd2908c",
   "metadata": {},
   "source": [
    "There were no errors but `read()` also did not output anything. This is because of our location in the file.\n",
    "\n",
    "Most of the file methods we've looked at work in a certain location in the file. `.write()` writes at a certain location in the file. `.read()` reads at a certain location in the file and so on. You can think of this as moving your pointer around in the notepad to make changes at a specific location.\n",
    "\n",
    "Opening the file in **w** is akin to opening the .txt file, moving your cursor to the beginning of the text file, writing new text and deleting everything that follows. Wheras opening the file in **a** is similar to opening the .txt file, moving your cursor to the very end and then adding the new pieces of text.\n",
    "\n",
    "It is often very useful to know where the 'cursor; is in a file and be able to control it. The following methods allow us to do precusely this - \n",
    "\n",
    "* `.tell()` - Returns the current poisiton in bytes.\n",
    "* `.seek(offset,from)` - Changes the position by 'offset' bytes with respect to 'from'. From can take the value of 0, 1, 2 corresponding to beginning, relative to current position, and end.\n",
    "\n",
    "Now let's revisit **a+**"
   ]
  },
  {
   "cell_type": "code",
   "execution_count": 25,
   "id": "9badfefc-cdec-4ceb-84f7-971a37ad894c",
   "metadata": {},
   "outputs": [
    {
     "name": "stdout",
     "output_type": "stream",
     "text": [
      "Initial Location: 59\n",
      "Read nothing\n",
      "\n",
      "New Location: 0\n",
      "Overwrite\n",
      "This is line C\n",
      "This is line D\n",
      "This is line E\n",
      "\n",
      "Location after read: 59\n"
     ]
    }
   ],
   "source": [
    "with open(exmp2, 'a+') as TestWriteFile:\n",
    "    print(\"Initial Location: {}\".format(TestWriteFile.tell()))\n",
    "\n",
    "    data = TestWriteFile.read()\n",
    "\n",
    "    # Empty strings return false in Python\n",
    "    if (not data):\n",
    "        print(\"Read nothing\")\n",
    "    else:\n",
    "        print(TestWriteFile.read())\n",
    "\n",
    "    # Move 0 bytes from the beginning\n",
    "    TestWriteFile.seek(0,0)\n",
    "\n",
    "    print(\"\\nNew Location: {}\".format(TestWriteFile.tell()))\n",
    "\n",
    "    data = TestWriteFile.read()\n",
    "\n",
    "    if (not data):\n",
    "        print(\"Read nothing\")\n",
    "    else:\n",
    "        print(data)\n",
    "\n",
    "    print(\"Location after read: {}\".format(TestWriteFile.tell()))"
   ]
  },
  {
   "cell_type": "markdown",
   "id": "6d73f56c-c197-46c2-b0a0-af2d24be1d7e",
   "metadata": {},
   "source": [
    "Finally, a note on the difference between **w+** and **r+**. Both of these modes allow access to read and write methods, however, opening a file in **w+** overwrites it and deletes all pre-existing data.\n",
    "\n",
    "In the following code block, run the code as it is first and then run it without the `.truncate()`."
   ]
  },
  {
   "cell_type": "code",
   "execution_count": 26,
   "id": "d0c38fb9-66d9-4547-8650-ff75bc8d0c6c",
   "metadata": {},
   "outputs": [
    {
     "name": "stdout",
     "output_type": "stream",
     "text": [
      "Line 1\n",
      "Line 2\n",
      "Line 3\n",
      "Line 4\n",
      "Finished\n",
      "\n",
      "This is line E\n",
      "\n"
     ]
    }
   ],
   "source": [
    "with open(exmp2, 'r+') as TestWriteFile:\n",
    "\n",
    "    # Write at the beginning of the file\n",
    "    TestWriteFile.seek(0,0)\n",
    "    \n",
    "    TestWriteFile.write(\"Line 1\" + \"\\n\")\n",
    "    TestWriteFile.write(\"Line 2\" + \"\\n\")\n",
    "    TestWriteFile.write(\"Line 3\" + \"\\n\")\n",
    "    TestWriteFile.write(\"Line 4\" + \"\\n\")\n",
    "    \n",
    "    TestWriteFile.write(\"Finished\\n\")\n",
    "\n",
    "    TestWriteFile.seek(0,0)\n",
    "\n",
    "    print(TestWriteFile.read())"
   ]
  },
  {
   "cell_type": "markdown",
   "id": "ea1d9ff8-0a32-4e92-9d05-a0a6b297118c",
   "metadata": {},
   "source": [
    "To work with a file on existing data, use **r+** and **a+**. While using **r+**, it can be useful to add a `.truncate()` method at the end of your data. This will reduce the file to your data and delete everything that follows."
   ]
  },
  {
   "cell_type": "code",
   "execution_count": 27,
   "id": "276ab18e-4c14-48cf-947a-8c1d7aff276c",
   "metadata": {},
   "outputs": [
    {
     "name": "stdout",
     "output_type": "stream",
     "text": [
      "Line 1\n",
      "Line 2\n",
      "Line 3\n",
      "Line 4\n",
      "Finished\n",
      "\n"
     ]
    }
   ],
   "source": [
    "with open(exmp2, 'r+') as TestWriteFile:\n",
    "\n",
    "    #Write at the beginning of a file\n",
    "    TestWriteFile.seek(0,0)\n",
    "\n",
    "    TestWriteFile.write(\"Line 1\" + \"\\n\")\n",
    "    TestWriteFile.write(\"Line 2\" + \"\\n\")\n",
    "    TestWriteFile.write(\"Line 3\" + \"\\n\")\n",
    "    TestWriteFile.write(\"Line 4\" + \"\\n\")\n",
    "\n",
    "    TestWriteFile.write(\"Finished\\n\")\n",
    "\n",
    "    TestWriteFile.truncate()\n",
    "\n",
    "    TestWriteFile.seek(0,0)\n",
    "\n",
    "    print(TestWriteFile.read())"
   ]
  },
  {
   "cell_type": "markdown",
   "id": "c958116b-4ba0-4c58-b988-cfae793b0927",
   "metadata": {},
   "source": [
    "## Copy a File\n",
    "\n",
    "Let's copy the file **Example2.txt** to the file **Example3.txt**:"
   ]
  },
  {
   "cell_type": "code",
   "execution_count": 29,
   "id": "7af2fd11-0338-451a-b427-16e20abd95df",
   "metadata": {},
   "outputs": [],
   "source": [
    "# Copy one file to another\n",
    "\n",
    "exmp3 = 'C:/Users/matth/OneDrive/Personal/Repositories/Coursera/Python for DataScience_AI_Dev/Module 4/Working with Data in Python/Write and Save Files/Example3.txt'\n",
    "\n",
    "with open(exmp2, 'r') as ReadFile:\n",
    "    with open(exmp3, 'w') as WriteFile:\n",
    "        for line in ReadFile:\n",
    "            WriteFile.write(line)"
   ]
  },
  {
   "cell_type": "markdown",
   "id": "53ef993e-7111-4e1c-aed2-e26a632b9604",
   "metadata": {},
   "source": [
    "We can read the file to see if everything worked:"
   ]
  },
  {
   "cell_type": "code",
   "execution_count": 30,
   "id": "fd53d3d8-9e05-497b-bb6a-616f7255137e",
   "metadata": {},
   "outputs": [
    {
     "name": "stdout",
     "output_type": "stream",
     "text": [
      "Line 1\n",
      "Line 2\n",
      "Line 3\n",
      "Line 4\n",
      "Finished\n",
      "\n"
     ]
    }
   ],
   "source": [
    "# Verify we successfully copied the file\n",
    "\n",
    "with open(exmp3, 'r') as TestWriteFile:\n",
    "    print(TestWriteFile.read())"
   ]
  },
  {
   "cell_type": "markdown",
   "id": "6401fe97-c1e7-4712-9f47-fec407341bea",
   "metadata": {},
   "source": [
    "After reading files, we can also write data into files and save them in different file formats like **.txt, .csv, .xls (for excel files) etc**. You will come across these in further examples.\n",
    "\n",
    "**NOTE:** If you wish to open and view the `Example3.txt` file, go the the 'Write and Save Files' directory. All associated files for this lab will be located within this directory."
   ]
  },
  {
   "cell_type": "markdown",
   "id": "80626cba-7d7f-4498-a5d3-add5c54b6229",
   "metadata": {},
   "source": [
    "---"
   ]
  },
  {
   "cell_type": "markdown",
   "id": "a86cc4e3-b54e-41bd-aa20-8bf34e46d6a4",
   "metadata": {},
   "source": [
    "## Exercise\n",
    "\n",
    "Your local university's Raptors fan club maintains a register of its active members on a .txt document. Every month they update the file by removing the members who are not active. You have been tasked with automating this with your Python skills.\n",
    "\n",
    "Given the file `CurrentMem`, remove each member with a 'no' in their 'Active' column. Keep track of each of the removed member and append them to the `exMem` file. Make sure that the format of the original files is preserved. (*Hint: Do this by reading/writing whole lines and ensuring the header remains*)\n",
    "\n",
    "Run the code block below prior to starting the exercise. The skeleton code has been provided for you. Edit only the `cleanFiles` function."
   ]
  },
  {
   "cell_type": "code",
   "execution_count": 149,
   "id": "cca1080a-0a61-4b64-92e6-31181eb25949",
   "metadata": {},
   "outputs": [],
   "source": [
    "# Run this section of code prior to starting the exercise\n",
    "\n",
    "from random import randint as rnd\n",
    "\n",
    "memReg = 'C:/Users/matth/OneDrive/Personal/Repositories/Coursera/Python for DataScience_AI_Dev/Module 4/Working with Data in Python/Write and Save Files/members.txt'\n",
    "exReg = 'C:/Users/matth/OneDrive/Personal/Repositories/Coursera/Python for DataScience_AI_Dev/Module 4/Working with Data in Python/Write and Save Files/inactive.txt'\n",
    "fee = ('yes', 'no')\n",
    "\n",
    "def genFiles(current,old):\n",
    "    with open(current, 'w+') as WriteFile:\n",
    "        WriteFile.write('Membership No  Date Joined  Active  \\n')\n",
    "        \n",
    "        data = \"{:^13}  {:<11}  {:<6}\\n\"\n",
    "\n",
    "        for rowno in range(20):\n",
    "            date = str(rnd(2015,2020)) + '-' + str(rnd(1,12)) + '-' + str(rnd(1,25))\n",
    "            WriteFile.write(data.format(rnd(10000,99999), date, fee[rnd(0,1)]))\n",
    "\n",
    "    with open(old, 'w+') as WriteFile:\n",
    "        WriteFile.write(\"Membership No  Date Joined  Active  \\n\")\n",
    "\n",
    "        data = \"{:^13}  {:<11}  {:<6}\\n\"\n",
    "\n",
    "        for rowno in range(3):\n",
    "            date = str(rnd(2015,2020)) + '-' + str(rnd(1,12)) + '-' + str(rnd(1,25))\n",
    "            WriteFile.write(data.format(rnd(10000,99999), date, fee[1]))\n",
    "\n",
    "\n",
    "genFiles(memReg, exReg)"
   ]
  },
  {
   "cell_type": "markdown",
   "id": "3a80e187-c174-43a2-9ec8-3c14ce4c1d1c",
   "metadata": {},
   "source": [
    "After running the prerequisite code cell above we see the files **'members.txt'** and **'inactive.txt'** have been generated for this exercise. We are now ready to move to implementation.\n",
    "\n",
    "### **Exercise:** Implement the cleanFiles function in the code cell below."
   ]
  },
  {
   "cell_type": "code",
   "execution_count": 150,
   "id": "49ac7b99-2aa0-4bb3-b54e-b83c77a94ed5",
   "metadata": {},
   "outputs": [
    {
     "name": "stdout",
     "output_type": "stream",
     "text": [
      "Active Members: \n",
      "\n",
      "\n",
      "Membership No  Date Joined  Active  \n",
      "    24248      2017-11-5    yes   \n",
      "    19964      2019-8-5     yes   \n",
      "    71055      2015-1-20    yes   \n",
      "    91326      2015-5-14    yes   \n",
      "    16515      2019-7-2     yes   \n",
      "    53343      2019-6-20    yes   \n",
      "    92369      2020-5-4     yes   \n",
      "    24396      2018-9-11    yes   \n",
      "    72731      2019-5-17    yes   \n",
      "\n",
      "Inactive Members: \n",
      "\n",
      "\n",
      "Membership No  Date Joined  Active  \n",
      "    39531      2016-12-14   no    \n",
      "    31773      2017-5-14    no    \n",
      "    23983      2016-12-10   no    \n",
      "    43738      2019-1-23    no    \n",
      "    65893      2015-2-22    no    \n",
      "    87091      2015-5-2     no    \n",
      "    18903      2015-2-1     no    \n",
      "    39088      2018-11-16   no    \n",
      "    35760      2019-3-15    no    \n",
      "    21059      2016-5-12    no    \n",
      "    70334      2016-7-13    no    \n",
      "    23278      2018-4-25    no    \n",
      "    41521      2020-6-24    no    \n",
      "    73425      2015-5-17    no    \n",
      "\n"
     ]
    }
   ],
   "source": [
    "'''\n",
    "*******************************************************************************************\n",
    "*                                                                                         *\n",
    "*            The two arguements for this function are the files:                          *\n",
    "*                - currentMem: File containing list of current members                    *\n",
    "*                - exMem: File containing list of old members                             *\n",
    "*                                                                                         *\n",
    "*-----------------------------------------------------------------------------------------*\n",
    "*                                                                                         *\n",
    "*            This function should remove all rows from currentMem containing 'no'         *\n",
    "*            in the 'Active' column and append them to exMem                              *\n",
    "*                                                                                         *\n",
    "*******************************************************************************************\n",
    "'''\n",
    "\n",
    "# Define our function to seperate active and inactive members to their respective lists\n",
    "def cleanFiles(currentMem, exMem):\n",
    "    \n",
    "    with open(currentMem, 'r+') as ReadWriteFile:\n",
    "        \n",
    "        # Define list of active members (if line contains value 'yes') to update \n",
    "        # members.txt file\n",
    "        ActiveMembers = [line for line in ReadWriteFile.readlines() if 'yes' in line]\n",
    "\n",
    "        # Return to beginning of file to iterate through list again\n",
    "        ReadWriteFile.seek(0,0)\n",
    "\n",
    "        # Define list of inactive members (if line contains value 'no') to update \n",
    "        # inactive.txt file\n",
    "        InactiveMembers = [line for line in ReadWriteFile.readlines() if 'no' in line]\n",
    "\n",
    "        # In 'members.txt', move to first line after the headers\n",
    "        ReadWriteFile.seek(38,0)\n",
    "\n",
    "        # Add active members to text file line by line, beginning after header line\n",
    "        i = 0;\n",
    "        for list in ActiveMembers:\n",
    "            ReadWriteFile.write(ActiveMembers[i])\n",
    "            i += 1\n",
    "\n",
    "        # Remove all items on the 'members.txt' list after the members we have added\n",
    "        # ensuring all duplicates and non-members have been removed\n",
    "        ReadWriteFile.truncate()\n",
    "\n",
    "        # Open the 'inactive.txt' file and add all inactive members to the list\n",
    "        # by using the a+ (amend) method to ensure members are added to end of list\n",
    "        with open(exMem, 'a+') as WriteFile:\n",
    "            i = 0;\n",
    "\n",
    "            for list in InactiveMembers:\n",
    "                WriteFile.write(InactiveMembers[i])\n",
    "                i += 1\n",
    "\n",
    "            ReadWriteFile.seek(0,0)\n",
    "            WriteFile.seek(0,0)\n",
    "\n",
    "# Define variable paths to 'members.txt' and 'inactive.txt' files to pass to \n",
    "# 'cleanFiles() function\n",
    "memReg = \"C:/Users/matth/OneDrive/Personal/Repositories/Coursera/Python for DataScience_AI_Dev/Module 4/Working with Data in Python/Write and Save Files/members.txt\"\n",
    "exReg = \"C:/Users/matth/OneDrive/Personal/Repositories/Coursera/Python for DataScience_AI_Dev/Module 4/Working with Data in Python/Write and Save Files/inactive.txt\"\n",
    "\n",
    "# Call 'cleanFiles() function\n",
    "cleanFiles(memReg, exReg)\n",
    "\n",
    "# Define Headers\n",
    "headers = \"Membership No  Date Joined  Active  \\n\"\n",
    "\n",
    "# Print list of active members from 'members.txt' file\n",
    "with open(memReg, 'r') as ReadFile:\n",
    "    print(\"Active Members: \\n\\n\")\n",
    "    print(ReadFile.read())\n",
    "\n",
    "# Print list of inactive members from 'inactive.txt' file\n",
    "with open(exReg, 'r') as ReadFile:\n",
    "    print(\"Inactive Members: \\n\\n\")\n",
    "    print(ReadFile.read())"
   ]
  },
  {
   "cell_type": "markdown",
   "id": "17075065-e7ec-40cb-b42c-b2bd6c97ec52",
   "metadata": {},
   "source": [
    "The code cell below is to verify my solution. This code was provided in the course and remained unmodified. I ran this code to test my implementation of the `cleanFiles` function."
   ]
  },
  {
   "cell_type": "code",
   "execution_count": 151,
   "id": "134e776b-44c2-4483-9708-eec6e3ffc9d0",
   "metadata": {},
   "outputs": [
    {
     "name": "stdout",
     "output_type": "stream",
     "text": [
      "Test Passed\n"
     ]
    }
   ],
   "source": [
    "def testMsg(passed):\n",
    "    if passed:\n",
    "       return 'Test Passed'\n",
    "    else :\n",
    "       return 'Test Failed'\n",
    "\n",
    "testWrite = \"C:/Users/matth/OneDrive/Personal/Repositories/Coursera/Python for DataScience_AI_Dev/Module 4/Working with Data in Python/Write and Save Files//testWrite.txt\"\n",
    "testAppend = \"C:/Users/matth/OneDrive/Personal/Repositories/Coursera/Python for DataScience_AI_Dev/Module 4/Working with Data in Python/Write and Save Files//testAppend.txt\" \n",
    "passed = True\n",
    "\n",
    "genFiles(testWrite,testAppend)\n",
    "\n",
    "with open(testWrite,'r') as file:\n",
    "    ogWrite = file.readlines()\n",
    "\n",
    "with open(testAppend,'r') as file:\n",
    "    ogAppend = file.readlines()\n",
    "\n",
    "try:\n",
    "    cleanFiles(testWrite,testAppend)\n",
    "except:\n",
    "    print('Error')\n",
    "\n",
    "with open(testWrite,'r') as file:\n",
    "    clWrite = file.readlines()\n",
    "\n",
    "with open(testAppend,'r') as file:\n",
    "    clAppend = file.readlines()\n",
    "        \n",
    "# checking if total no of rows is same, including headers\n",
    "\n",
    "if (len(ogWrite) + len(ogAppend) != len(clWrite) + len(clAppend)):\n",
    "    print(\"The number of rows do not add up. Make sure your final files have the same header and format.\")\n",
    "    passed = False\n",
    "    \n",
    "for line in clWrite:\n",
    "    if  'no' in line:\n",
    "        passed = False\n",
    "        print(\"Inactive members in file\")\n",
    "        break\n",
    "    else:\n",
    "        if line not in ogWrite:\n",
    "            print(\"Data in file does not match original file\")\n",
    "            passed = False\n",
    "print (\"{}\".format(testMsg(passed)))\n",
    "    \n",
    "\n"
   ]
  }
 ],
 "metadata": {
  "kernelspec": {
   "display_name": "Python 3 (ipykernel)",
   "language": "python",
   "name": "python3"
  },
  "language_info": {
   "codemirror_mode": {
    "name": "ipython",
    "version": 3
   },
   "file_extension": ".py",
   "mimetype": "text/x-python",
   "name": "python",
   "nbconvert_exporter": "python",
   "pygments_lexer": "ipython3",
   "version": "3.12.6"
  }
 },
 "nbformat": 4,
 "nbformat_minor": 5
}
