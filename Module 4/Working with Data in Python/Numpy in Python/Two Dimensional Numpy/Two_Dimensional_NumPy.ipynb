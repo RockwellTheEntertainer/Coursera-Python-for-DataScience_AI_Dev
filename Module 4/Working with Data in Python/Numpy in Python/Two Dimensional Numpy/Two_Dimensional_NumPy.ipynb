{
 "cells": [
  {
   "cell_type": "markdown",
   "id": "c6f4c11d-cfa6-46aa-8753-3c1690f1c3fc",
   "metadata": {},
   "source": [
    "# **2-D NumPy in Python**\n",
    "\n",
    "### Objectives\n",
    "\n",
    "After completing this lab you will be able to:\n",
    "\n",
    "* Operate comfortably with `NumPy`\n",
    "* Perform complex operations with `NumPy`"
   ]
  },
  {
   "cell_type": "markdown",
   "id": "f7538a17-a6fc-4cf2-9cfb-ed850df09a1c",
   "metadata": {},
   "source": [
    "---"
   ]
  },
  {
   "cell_type": "markdown",
   "id": "b14b86a1-5a44-4339-9332-1a5c9c762cce",
   "metadata": {},
   "source": [
    "### Create a 2- NumPy Array"
   ]
  },
  {
   "cell_type": "code",
   "execution_count": 2,
   "id": "810d37ed-04aa-49b1-bd61-37724dc22b8e",
   "metadata": {},
   "outputs": [],
   "source": [
    "# Import the libraries\n",
    "\n",
    "import numpy as np"
   ]
  },
  {
   "cell_type": "markdown",
   "id": "6f89819b-df11-478a-abe6-4c0d577055fe",
   "metadata": {},
   "source": [
    "Consider the list **a** which contains three nested lists **each of equal size**"
   ]
  },
  {
   "cell_type": "code",
   "execution_count": 3,
   "id": "5f008197-592e-41ea-b0c2-af501ab7fea2",
   "metadata": {},
   "outputs": [
    {
     "data": {
      "text/plain": [
       "[[11, 12, 13], [21, 22, 23], [31, 32, 33]]"
      ]
     },
     "execution_count": 3,
     "metadata": {},
     "output_type": "execute_result"
    }
   ],
   "source": [
    "# Create a list\n",
    "\n",
    "a = [[11, 12, 13], [21, 22, 23], [31, 32, 33]]\n",
    "a"
   ]
  },
  {
   "cell_type": "markdown",
   "id": "39e2b2dd-250f-4dd6-a8d4-7cef00f2587b",
   "metadata": {},
   "source": [
    "We can cast the list to a NumPy array as follows:"
   ]
  },
  {
   "cell_type": "code",
   "execution_count": 4,
   "id": "3662e19c-8df9-4bc4-84dd-e909bbc44e65",
   "metadata": {},
   "outputs": [
    {
     "data": {
      "text/plain": [
       "array([[11, 12, 13],\n",
       "       [21, 22, 23],\n",
       "       [31, 32, 33]])"
      ]
     },
     "execution_count": 4,
     "metadata": {},
     "output_type": "execute_result"
    }
   ],
   "source": [
    "# Convert the list to a NumPy array\n",
    "# Every element is the same type\n",
    "\n",
    "A = np.array(a)\n",
    "A"
   ]
  },
  {
   "cell_type": "markdown",
   "id": "31fc94c6-9be8-402d-8604-66c3f9f4f828",
   "metadata": {},
   "source": [
    "We can use the attribute `ndim` to obtain the number of axes or dimensions, referred to as the rank"
   ]
  },
  {
   "cell_type": "code",
   "execution_count": 5,
   "id": "45c4c704-747f-4794-a14c-2404eda4346e",
   "metadata": {},
   "outputs": [
    {
     "data": {
      "text/plain": [
       "2"
      ]
     },
     "execution_count": 5,
     "metadata": {},
     "output_type": "execute_result"
    }
   ],
   "source": [
    "# Show the NumPy array dimensions\n",
    "\n",
    "A.ndim"
   ]
  },
  {
   "cell_type": "markdown",
   "id": "83535d68-3f36-4bb0-a56e-ae6cde46bcd0",
   "metadata": {},
   "source": [
    "Attribute `shape` returns a tuple corresponding to the size or number of each dimension"
   ]
  },
  {
   "cell_type": "code",
   "execution_count": 6,
   "id": "52ad71af-82e4-4381-965f-65456c0beeaa",
   "metadata": {},
   "outputs": [
    {
     "data": {
      "text/plain": [
       "(3, 3)"
      ]
     },
     "execution_count": 6,
     "metadata": {},
     "output_type": "execute_result"
    }
   ],
   "source": [
    "# Show the NumPy array shape\n",
    "\n",
    "A.shape"
   ]
  },
  {
   "cell_type": "markdown",
   "id": "b1ac8968-c21c-44f4-9d5a-d40838fb4614",
   "metadata": {},
   "source": [
    "The total number of elements in the array is given by the attribute `size`"
   ]
  },
  {
   "cell_type": "code",
   "execution_count": 7,
   "id": "6f72f440-cf95-4b27-adde-296eedca661e",
   "metadata": {},
   "outputs": [
    {
     "data": {
      "text/plain": [
       "9"
      ]
     },
     "execution_count": 7,
     "metadata": {},
     "output_type": "execute_result"
    }
   ],
   "source": [
    "# Show the NumPy array size\n",
    "\n",
    "A.size"
   ]
  },
  {
   "cell_type": "markdown",
   "id": "704cb3ba-493c-48b1-a01f-acfeb981efe4",
   "metadata": {},
   "source": [
    "---"
   ]
  },
  {
   "cell_type": "markdown",
   "id": "b49c6aae-0bc0-423a-89cf-5637372a5658",
   "metadata": {},
   "source": [
    "### Accessing Different Elements of a NumPy Array\n",
    "\n",
    "We can use rectangular brackets to access the different elements of the array. The correspondance between the rectangular brackets, and the list and the rectangular representation is shown in the following figure for a 3x3 array:\n",
    "\n",
    "<img src=\"https://cf-courses-data.s3.us.cloud-object-storage.appdomain.cloud/IBMDeveloperSkillsNetwork-PY0101EN-SkillsNetwork/labs/Module%205/images/NumTwoEg.png\" width=\"500\">\n",
    "\n",
    "We can access the 2nd-row, 3rd column as shown in the following figure:\n",
    "\n",
    "<img src=\"https://cf-courses-data.s3.us.cloud-object-storage.appdomain.cloud/IBMDeveloperSkillsNetwork-PY0101EN-SkillsNetwork/labs/Module%205/images/NumTwoFT.png\" width=\"400\">\n",
    "\n",
    "We simply use the square brackets and the indicies corresponding to the element we would like:"
   ]
  },
  {
   "cell_type": "code",
   "execution_count": 8,
   "id": "2f3d6d57-3ded-47fe-a15c-f1f5fc2de183",
   "metadata": {},
   "outputs": [
    {
     "data": {
      "text/plain": [
       "np.int64(23)"
      ]
     },
     "execution_count": 8,
     "metadata": {},
     "output_type": "execute_result"
    }
   ],
   "source": [
    "# Access the element on the second row and third column\n",
    "\n",
    "A[1, 2]"
   ]
  },
  {
   "cell_type": "markdown",
   "id": "fe3be3b1-580f-4584-8746-a63627c75314",
   "metadata": {},
   "source": [
    "We can also use the following notation to obtain the elements:"
   ]
  },
  {
   "cell_type": "code",
   "execution_count": 9,
   "id": "2d581bf9-a3ec-4424-b37b-9cae132523b8",
   "metadata": {},
   "outputs": [
    {
     "data": {
      "text/plain": [
       "np.int64(23)"
      ]
     },
     "execution_count": 9,
     "metadata": {},
     "output_type": "execute_result"
    }
   ],
   "source": [
    "# Access the element in the second row and the third column\n",
    "\n",
    "A[1][2]"
   ]
  },
  {
   "cell_type": "markdown",
   "id": "aa438aee-5eaf-4309-b61c-859f982ad7b3",
   "metadata": {},
   "source": [
    "Consider the elements shown in the following figure\n",
    "\n",
    "<img src=\"https://cf-courses-data.s3.us.cloud-object-storage.appdomain.cloud/IBMDeveloperSkillsNetwork-PY0101EN-SkillsNetwork/labs/Module%205/images/NumTwoFF.png\" width=\"400\">\n",
    "\n",
    "We can access the elements as follows:"
   ]
  },
  {
   "cell_type": "code",
   "execution_count": 10,
   "id": "2c1b85d4-664e-4b8f-9e24-135b0c97ea6f",
   "metadata": {},
   "outputs": [
    {
     "data": {
      "text/plain": [
       "np.int64(11)"
      ]
     },
     "execution_count": 10,
     "metadata": {},
     "output_type": "execute_result"
    }
   ],
   "source": [
    "# Access the element inn the first row and first column\n",
    "\n",
    "A[0][0]"
   ]
  },
  {
   "cell_type": "markdown",
   "id": "914f2b7d-76fd-4115-9ccd-cf816080dca3",
   "metadata": {},
   "source": [
    "We can also use slicing in NumPy arrays. Consider the following figure. We would like to obtain the first two columns in the first row\n",
    "\n",
    "<img src=\"https://cf-courses-data.s3.us.cloud-object-storage.appdomain.cloud/IBMDeveloperSkillsNetwork-PY0101EN-SkillsNetwork/labs/Module%205/images/NumTwoFSF.png\" width=\"400\">\n",
    "\n",
    "This can be done with the following syntax:"
   ]
  },
  {
   "cell_type": "code",
   "execution_count": 11,
   "id": "67a9a81e-5d99-4b74-8845-6f32450d9e3d",
   "metadata": {},
   "outputs": [
    {
     "data": {
      "text/plain": [
       "array([11, 12])"
      ]
     },
     "execution_count": 11,
     "metadata": {},
     "output_type": "execute_result"
    }
   ],
   "source": [
    "# Access the element on the first row and first and second columns\n",
    "\n",
    "A[0][0:2]"
   ]
  },
  {
   "cell_type": "markdown",
   "id": "115783f5-523e-40fa-857f-92e3baa2a826",
   "metadata": {},
   "source": [
    "Similarly, we can obtain the first two rows of the 3rd column as follows:"
   ]
  },
  {
   "cell_type": "code",
   "execution_count": 12,
   "id": "82963714-9f6e-4e39-a12c-14865afac6f4",
   "metadata": {},
   "outputs": [
    {
     "data": {
      "text/plain": [
       "array([13, 23])"
      ]
     },
     "execution_count": 12,
     "metadata": {},
     "output_type": "execute_result"
    }
   ],
   "source": [
    "# Access the element on the first and second rows and third column\n",
    "\n",
    "A[0:2, 2]"
   ]
  },
  {
   "cell_type": "markdown",
   "id": "6b20ccc2-9017-48d9-a13b-44ff8df709db",
   "metadata": {},
   "source": [
    "Corresponding to the following figure:\n",
    "\n",
    "<img src=\"https://cf-courses-data.s3.us.cloud-object-storage.appdomain.cloud/IBMDeveloperSkillsNetwork-PY0101EN-SkillsNetwork/labs/Module%205/images/2D_numpy.png\" width=\"400\"><br />\n",
    "\n",
    "### Basic Operations\n",
    "\n",
    "We can also add arrays. The process is identical to matrix addition. Matrix addition of `X` and `Y` is shown in the following figure:\n",
    "\n",
    "<img src=\"https://cf-courses-data.s3.us.cloud-object-storage.appdomain.cloud/IBMDeveloperSkillsNetwork-PY0101EN-SkillsNetwork/labs/Module%205/images/NumTwoAdd.png\" width=\"500\">\n",
    "\n",
    "The NumPy array is given by `X` and `Y`"
   ]
  },
  {
   "cell_type": "code",
   "execution_count": 13,
   "id": "e27131aa-fb87-473d-ab8a-5bfe142ecddb",
   "metadata": {},
   "outputs": [
    {
     "data": {
      "text/plain": [
       "array([[1, 0],\n",
       "       [0, 1]])"
      ]
     },
     "execution_count": 13,
     "metadata": {},
     "output_type": "execute_result"
    }
   ],
   "source": [
    "# Create a NumPy array 'X'\n",
    "\n",
    "X = np.array([[1, 0], [0, 1]])\n",
    "X"
   ]
  },
  {
   "cell_type": "code",
   "execution_count": 14,
   "id": "388d35db-76c5-40cf-94b5-618d2d111122",
   "metadata": {},
   "outputs": [
    {
     "data": {
      "text/plain": [
       "array([[2, 1],\n",
       "       [1, 2]])"
      ]
     },
     "execution_count": 14,
     "metadata": {},
     "output_type": "execute_result"
    }
   ],
   "source": [
    "# Create a NumPy array 'Y'\n",
    "\n",
    "Y = np.array([[2, 1], [1, 2]])\n",
    "Y"
   ]
  },
  {
   "cell_type": "markdown",
   "id": "50e8dc4f-7439-47a1-b15b-51c885d10040",
   "metadata": {},
   "source": [
    "We can add the NumPy arrays as follows:"
   ]
  },
  {
   "cell_type": "code",
   "execution_count": 15,
   "id": "7462713f-2efe-483e-86e7-e7185942a9af",
   "metadata": {},
   "outputs": [
    {
     "data": {
      "text/plain": [
       "array([[3, 1],\n",
       "       [1, 3]])"
      ]
     },
     "execution_count": 15,
     "metadata": {},
     "output_type": "execute_result"
    }
   ],
   "source": [
    "# Add 'X' and 'Y'\n",
    "\n",
    "Z = X + Y\n",
    "Z"
   ]
  },
  {
   "cell_type": "markdown",
   "id": "9f259afa-76b8-4b23-917c-57979cb519d8",
   "metadata": {},
   "source": [
    "Multiplying a NumPy array by a scalar is identical to multiplying a matrix by a scalar. If we multiply the matrix `Y` by the scalar 2, we simply multiply every element in the matrix by 2, as shown in the figure\n",
    "\n",
    "<img src=\"https://cf-courses-data.s3.us.cloud-object-storage.appdomain.cloud/IBMDeveloperSkillsNetwork-PY0101EN-SkillsNetwork/labs/Module%205/images/NumTwoDb.png\" width=\"500\">\n",
    "\n",
    "We can perform the same operation in NumPy as follows"
   ]
  },
  {
   "cell_type": "code",
   "execution_count": 16,
   "id": "442a4ab4-0813-4b87-bb85-d6803c0b140d",
   "metadata": {},
   "outputs": [
    {
     "data": {
      "text/plain": [
       "array([[2, 1],\n",
       "       [1, 2]])"
      ]
     },
     "execution_count": 16,
     "metadata": {},
     "output_type": "execute_result"
    }
   ],
   "source": [
    "# Create a NumPy array 'Y'\n",
    "\n",
    "Y = np.array([[2, 1], [1, 2]])\n",
    "Y"
   ]
  },
  {
   "cell_type": "code",
   "execution_count": 17,
   "id": "f3a3054c-da2b-4fb2-abfb-d5d7a62797cb",
   "metadata": {},
   "outputs": [
    {
     "data": {
      "text/plain": [
       "array([[4, 2],\n",
       "       [2, 4]])"
      ]
     },
     "execution_count": 17,
     "metadata": {},
     "output_type": "execute_result"
    }
   ],
   "source": [
    "# Multiply Y with 2\n",
    "\n",
    "Z = 2 * Y\n",
    "Z"
   ]
  },
  {
   "cell_type": "markdown",
   "id": "9bc5802f-718c-4b18-b055-6a9781164693",
   "metadata": {},
   "source": [
    "Multiplication of two arrays corresponds to an element-wise product or *Hadamard Product*. Consider matrix `X` and `Y`. The Hadamard product corresponds to multiplying each of the elements in the same position, i.e., multiplying elements contained in the same color boxes (see below) together. The result is a new matrix that is the same size as matrix `Y` or `X`, as shown in the following figure\n",
    "\n",
    "<img src=\"https://cf-courses-data.s3.us.cloud-object-storage.appdomain.cloud/IBMDeveloperSkillsNetwork-PY0101EN-SkillsNetwork/labs/Module%205/images/NumTwoMul.png\" width=\"500\">\n",
    "\n",
    "We can perform element-wise product of the array `X` and `Y` as follows:"
   ]
  },
  {
   "cell_type": "code",
   "execution_count": 18,
   "id": "d75f3d2d-bd6f-41f7-9c04-f31c530f5e45",
   "metadata": {},
   "outputs": [
    {
     "data": {
      "text/plain": [
       "array([[2, 1],\n",
       "       [1, 2]])"
      ]
     },
     "execution_count": 18,
     "metadata": {},
     "output_type": "execute_result"
    }
   ],
   "source": [
    "# Create a NumPy array 'Y'\n",
    "\n",
    "Y = np.array([[2, 1], [1, 2]])\n",
    "Y"
   ]
  },
  {
   "cell_type": "code",
   "execution_count": 19,
   "id": "35127298-9819-472b-9762-707f76566b44",
   "metadata": {},
   "outputs": [
    {
     "data": {
      "text/plain": [
       "array([[1, 0],\n",
       "       [0, 1]])"
      ]
     },
     "execution_count": 19,
     "metadata": {},
     "output_type": "execute_result"
    }
   ],
   "source": [
    "# Create a NumPy array 'X'\n",
    "\n",
    "X = np.array([[1, 0], [0, 1]])\n",
    "X"
   ]
  },
  {
   "cell_type": "code",
   "execution_count": 20,
   "id": "0c8b8570-c76c-46df-9cfe-ea7f7ff754a8",
   "metadata": {},
   "outputs": [
    {
     "data": {
      "text/plain": [
       "array([[2, 0],\n",
       "       [0, 2]])"
      ]
     },
     "execution_count": 20,
     "metadata": {},
     "output_type": "execute_result"
    }
   ],
   "source": [
    "# Multiply 'X' with 'Y', assign to 'Z'\n",
    "\n",
    "Z = X * Y\n",
    "Z"
   ]
  },
  {
   "cell_type": "markdown",
   "id": "f62de2d2-d8dd-41ad-b2b3-7c84c302c971",
   "metadata": {},
   "source": [
    "We can also perform matrix multiplication with the NumPy arrays `A` and `B` as follows:\n",
    "\n",
    "First, we define matrix `A` and `B`:"
   ]
  },
  {
   "cell_type": "code",
   "execution_count": 22,
   "id": "be964373-3f1d-420a-8f71-753ac0d60b8b",
   "metadata": {},
   "outputs": [
    {
     "data": {
      "text/plain": [
       "array([[0, 1, 1],\n",
       "       [1, 0, 1]])"
      ]
     },
     "execution_count": 22,
     "metadata": {},
     "output_type": "execute_result"
    }
   ],
   "source": [
    "# Create a matrix 'A'\n",
    "\n",
    "A = np.array([[0, 1, 1], [1, 0, 1]])\n",
    "A"
   ]
  },
  {
   "cell_type": "code",
   "execution_count": 23,
   "id": "ab261d0a-cd9c-44ed-ba75-04bcd0357584",
   "metadata": {},
   "outputs": [
    {
     "data": {
      "text/plain": [
       "array([[ 1,  1],\n",
       "       [ 1,  1],\n",
       "       [-1,  1]])"
      ]
     },
     "execution_count": 23,
     "metadata": {},
     "output_type": "execute_result"
    }
   ],
   "source": [
    "# Create a matrix 'B'\n",
    "\n",
    "B = np.array([[1, 1], [1, 1], [-1, 1]])\n",
    "B"
   ]
  },
  {
   "cell_type": "markdown",
   "id": "df18b62c-1066-42df-9068-5d5a34454c35",
   "metadata": {},
   "source": [
    "We can use the NumPy function `dot` to multiply the arrays together"
   ]
  },
  {
   "cell_type": "code",
   "execution_count": 24,
   "id": "7e89aea5-c03b-4659-b63d-49590e572818",
   "metadata": {},
   "outputs": [
    {
     "data": {
      "text/plain": [
       "array([[0, 2],\n",
       "       [0, 2]])"
      ]
     },
     "execution_count": 24,
     "metadata": {},
     "output_type": "execute_result"
    }
   ],
   "source": [
    "# Calculate the dot product of 'A' and 'B'\n",
    "\n",
    "Z = np.dot(A, B)\n",
    "Z"
   ]
  },
  {
   "cell_type": "code",
   "execution_count": 25,
   "id": "abe3bb67-9a39-4bfc-8d9d-a34e363d07cc",
   "metadata": {},
   "outputs": [
    {
     "data": {
      "text/plain": [
       "array([[0.        , 0.90929743],\n",
       "       [0.        , 0.90929743]])"
      ]
     },
     "execution_count": 25,
     "metadata": {},
     "output_type": "execute_result"
    }
   ],
   "source": [
    "# Calculate the sine of Z\n",
    "\n",
    "np.sin(Z)"
   ]
  },
  {
   "cell_type": "markdown",
   "id": "d905b379-37e8-4275-a81e-6324ce7ad348",
   "metadata": {},
   "source": [
    "We use the NumPy attribute `T` to calculate the transposed matrix"
   ]
  },
  {
   "cell_type": "code",
   "execution_count": 26,
   "id": "a4f7dfa3-4953-4f76-92ef-d50ab1b703f5",
   "metadata": {},
   "outputs": [
    {
     "data": {
      "text/plain": [
       "array([[1, 1],\n",
       "       [2, 2],\n",
       "       [3, 3]])"
      ]
     },
     "execution_count": 26,
     "metadata": {},
     "output_type": "execute_result"
    }
   ],
   "source": [
    "# Create a matrix 'C'\n",
    "\n",
    "C = np.array([[1, 1], [2, 2], [3, 3]])\n",
    "C"
   ]
  },
  {
   "cell_type": "code",
   "execution_count": 27,
   "id": "b5fe6cca-ff56-406a-aaf3-a2a06fe50ca1",
   "metadata": {},
   "outputs": [
    {
     "data": {
      "text/plain": [
       "array([[1, 2, 3],\n",
       "       [1, 2, 3]])"
      ]
     },
     "execution_count": 27,
     "metadata": {},
     "output_type": "execute_result"
    }
   ],
   "source": [
    "# Get the transpose of 'C'\n",
    "\n",
    "C.T"
   ]
  },
  {
   "cell_type": "markdown",
   "id": "cc1af08e-b480-4464-83dc-e25faaf81b4b",
   "metadata": {},
   "source": [
    "### Quiz on 2D NumPy Arrays\n",
    "\n",
    "Consider the following list `a`. Convert it to a NumPy array"
   ]
  },
  {
   "cell_type": "code",
   "execution_count": 28,
   "id": "5ef5e4c9-660f-404c-91be-f31ddce112dd",
   "metadata": {},
   "outputs": [
    {
     "data": {
      "text/plain": [
       "array([[ 1,  2,  3,  4],\n",
       "       [ 5,  6,  7,  8],\n",
       "       [ 9, 10, 11, 12]])"
      ]
     },
     "execution_count": 28,
     "metadata": {},
     "output_type": "execute_result"
    }
   ],
   "source": [
    "# Write your code below and press Shift+Enter to execute\n",
    "\n",
    "a = [[1, 2, 3, 4], [5, 6, 7, 8], [9, 10, 11, 12]]\n",
    "\n",
    "A = np.array(a)\n",
    "A"
   ]
  },
  {
   "cell_type": "markdown",
   "id": "1f11d68a-d64c-4743-9b53-ce9ab3bb0313",
   "metadata": {},
   "source": [
    "Calculate the NumPy array size"
   ]
  },
  {
   "cell_type": "code",
   "execution_count": 30,
   "id": "452fe374-742d-44a2-bd12-48eef6829e22",
   "metadata": {},
   "outputs": [
    {
     "data": {
      "text/plain": [
       "12"
      ]
     },
     "execution_count": 30,
     "metadata": {},
     "output_type": "execute_result"
    }
   ],
   "source": [
    "A.size"
   ]
  },
  {
   "cell_type": "markdown",
   "id": "92992dcb-3578-4f79-8e89-96883e984c7a",
   "metadata": {},
   "source": [
    "Access the element on the first row and first and second columns"
   ]
  },
  {
   "cell_type": "code",
   "execution_count": 31,
   "id": "f7c2b5a6-ef9c-461a-80db-7167b1d6a598",
   "metadata": {},
   "outputs": [
    {
     "data": {
      "text/plain": [
       "array([1, 2])"
      ]
     },
     "execution_count": 31,
     "metadata": {},
     "output_type": "execute_result"
    }
   ],
   "source": [
    "# Write your code below and press Shift+Enter to execute\n",
    "\n",
    "A[0][0:2]"
   ]
  },
  {
   "cell_type": "markdown",
   "id": "c7286a4c-71d3-4615-b83e-e96e1ec9b6f6",
   "metadata": {},
   "source": [
    "Perform matrix multiplication with the NumPy arrays `A` and `B`"
   ]
  },
  {
   "cell_type": "code",
   "execution_count": 34,
   "id": "abca28fd-a9af-40ff-9203-5e1d84cd6085",
   "metadata": {},
   "outputs": [
    {
     "data": {
      "text/plain": [
       "array([[ 1,  4],\n",
       "       [ 5, 12],\n",
       "       [ 9, 20]])"
      ]
     },
     "execution_count": 34,
     "metadata": {},
     "output_type": "execute_result"
    }
   ],
   "source": [
    "# Write your code below and press Shift+Enter to execute\n",
    "\n",
    "B = np.array([[0, 1], [1, 0], [1, 1], [-1, 0]])\n",
    "\n",
    "C = np.dot(A, B)\n",
    "C"
   ]
  }
 ],
 "metadata": {
  "kernelspec": {
   "display_name": "Python 3 (ipykernel)",
   "language": "python",
   "name": "python3"
  },
  "language_info": {
   "codemirror_mode": {
    "name": "ipython",
    "version": 3
   },
   "file_extension": ".py",
   "mimetype": "text/x-python",
   "name": "python",
   "nbconvert_exporter": "python",
   "pygments_lexer": "ipython3",
   "version": "3.12.6"
  }
 },
 "nbformat": 4,
 "nbformat_minor": 5
}
