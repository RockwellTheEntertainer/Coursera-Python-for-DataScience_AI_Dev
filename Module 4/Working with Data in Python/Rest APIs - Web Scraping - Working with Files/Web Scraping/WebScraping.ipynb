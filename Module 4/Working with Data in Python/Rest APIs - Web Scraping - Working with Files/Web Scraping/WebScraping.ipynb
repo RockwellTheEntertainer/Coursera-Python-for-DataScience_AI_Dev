{
 "cells": [
  {
   "cell_type": "markdown",
   "id": "f0d47345-52ce-42a3-8f71-26cb9c1e38ec",
   "metadata": {},
   "source": [
    "# **Web Scraping Lab**\n",
    "\n",
    "## Objectives\n",
    "\n",
    "After completing this lab you will be:\n",
    "\n",
    "* Familiar with the basics of the `Beautifulsoup` Python libray\n",
    "* Be able to scrape webpages for data and filter the data\n",
    "---"
   ]
  },
  {
   "cell_type": "markdown",
   "id": "87a5af58-106e-4de4-87e5-980192dd9bdc",
   "metadata": {},
   "source": [
    "For this lab, we are going to be using Python and several Python libraries. Some of these libraries might be installed in your lab enviornment or in SN labs. Others may need to be installed by you. The cells below will install these libraries when executed."
   ]
  },
  {
   "cell_type": "code",
   "execution_count": 1,
   "id": "0e0ed2df-65b9-4cef-bdee-0b110791f864",
   "metadata": {},
   "outputs": [
    {
     "name": "stdout",
     "output_type": "stream",
     "text": [
      "Defaulting to user installation because normal site-packages is not writeable\n",
      "Collecting bs4\n",
      "  Downloading bs4-0.0.2-py2.py3-none-any.whl.metadata (411 bytes)\n",
      "Requirement already satisfied: beautifulsoup4 in c:\\users\\matth\\appdata\\roaming\\python\\python312\\site-packages (from bs4) (4.12.3)\n",
      "Requirement already satisfied: soupsieve>1.2 in c:\\users\\matth\\appdata\\roaming\\python\\python312\\site-packages (from beautifulsoup4->bs4) (2.6)\n",
      "Downloading bs4-0.0.2-py2.py3-none-any.whl (1.2 kB)\n",
      "Installing collected packages: bs4\n",
      "Successfully installed bs4-0.0.2\n",
      "Defaulting to user installation because normal site-packages is not writeable\n",
      "Requirement already satisfied: requests in c:\\users\\matth\\appdata\\roaming\\python\\python312\\site-packages (2.32.3)\n",
      "Requirement already satisfied: pandas in c:\\users\\matth\\appdata\\roaming\\python\\python312\\site-packages (2.2.3)\n",
      "Collecting html5lib\n",
      "  Downloading html5lib-1.1-py2.py3-none-any.whl.metadata (16 kB)\n",
      "Requirement already satisfied: charset-normalizer<4,>=2 in c:\\users\\matth\\appdata\\roaming\\python\\python312\\site-packages (from requests) (3.4.0)\n",
      "Requirement already satisfied: idna<4,>=2.5 in c:\\users\\matth\\appdata\\roaming\\python\\python312\\site-packages (from requests) (3.10)\n",
      "Requirement already satisfied: urllib3<3,>=1.21.1 in c:\\users\\matth\\appdata\\roaming\\python\\python312\\site-packages (from requests) (2.2.3)\n",
      "Requirement already satisfied: certifi>=2017.4.17 in c:\\users\\matth\\appdata\\roaming\\python\\python312\\site-packages (from requests) (2024.8.30)\n",
      "Requirement already satisfied: numpy>=1.26.0 in c:\\users\\matth\\appdata\\roaming\\python\\python312\\site-packages (from pandas) (2.1.3)\n",
      "Requirement already satisfied: python-dateutil>=2.8.2 in c:\\users\\matth\\appdata\\roaming\\python\\python312\\site-packages (from pandas) (2.9.0.post0)\n",
      "Requirement already satisfied: pytz>=2020.1 in c:\\users\\matth\\appdata\\roaming\\python\\python312\\site-packages (from pandas) (2024.2)\n",
      "Requirement already satisfied: tzdata>=2022.7 in c:\\users\\matth\\appdata\\roaming\\python\\python312\\site-packages (from pandas) (2024.2)\n",
      "Requirement already satisfied: six>=1.9 in c:\\users\\matth\\appdata\\roaming\\python\\python312\\site-packages (from html5lib) (1.16.0)\n",
      "Requirement already satisfied: webencodings in c:\\users\\matth\\appdata\\roaming\\python\\python312\\site-packages (from html5lib) (0.5.1)\n",
      "Downloading html5lib-1.1-py2.py3-none-any.whl (112 kB)\n",
      "Installing collected packages: html5lib\n",
      "Successfully installed html5lib-1.1\n"
     ]
    }
   ],
   "source": [
    "!pip install bs4\n",
    "!pip install requests pandas html5lib"
   ]
  },
  {
   "cell_type": "markdown",
   "id": "ec9e618d-94e4-4d52-b65b-02e09b55de2e",
   "metadata": {},
   "source": [
    "Import the required modules and functions"
   ]
  },
  {
   "cell_type": "code",
   "execution_count": 2,
   "id": "0c38e612-0dbb-4960-84f1-1bca2d1112d5",
   "metadata": {},
   "outputs": [],
   "source": [
    "# This module helps in web scrapping\n",
    "from bs4 import BeautifulSoup\n",
    "\n",
    "# This module helps us to download a web page\n",
    "import requests"
   ]
  },
  {
   "cell_type": "markdown",
   "id": "02acea2d-2630-4bca-bf13-9aa1ec641dda",
   "metadata": {},
   "source": [
    "## Beautiful Soup Objects\n",
    "\n",
    "Beautiful Soup is a Python library for pulling data out of HTML and XML files, we will focus on HTML files. This is accomplished by representing the HTML as a set of objects with methods used to parse the HTML. We can navigate the HTML as a tree, and/or filter out what we are looking for.\n",
    "\n",
    "Consider the following HTML:"
   ]
  },
  {
   "cell_type": "code",
   "execution_count": 3,
   "id": "a212af89-517d-41a1-aa73-590f7bb83b79",
   "metadata": {},
   "outputs": [
    {
     "data": {
      "text/html": [
       "<!DOCTYPE html>\n",
       "<html>\n",
       "<head>\n",
       "<title>Page Title</title>\n",
       "</head>\n",
       "<body>\n",
       "<h3><b id='boldest'>Lebron James</b></h3>\n",
       "<p> Salary: $ 92,000,000 </p>\n",
       "<h3> Stephen Curry</h3>\n",
       "<p> Salary: $85,000, 000 </p>\n",
       "<h3> Kevin Durant </h3>\n",
       "<p> Salary: $73,200, 000</p>\n",
       "</body>\n",
       "</html>\n"
      ],
      "text/plain": [
       "<IPython.core.display.HTML object>"
      ]
     },
     "metadata": {},
     "output_type": "display_data"
    }
   ],
   "source": [
    "%%html\n",
    "<!DOCTYPE html>\n",
    "<html>\n",
    "<head>\n",
    "<title>Page Title</title>\n",
    "</head>\n",
    "<body>\n",
    "<h3><b id='boldest'>Lebron James</b></h3>\n",
    "<p> Salary: $ 92,000,000 </p>\n",
    "<h3> Stephen Curry</h3>\n",
    "<p> Salary: $85,000, 000 </p>\n",
    "<h3> Kevin Durant </h3>\n",
    "<p> Salary: $73,200, 000</p>\n",
    "</body>\n",
    "</html>"
   ]
  },
  {
   "cell_type": "markdown",
   "id": "0bbcb32b-955f-4785-849f-d459d201a05b",
   "metadata": {},
   "source": [
    "We can store it as a string in the variable HTML:"
   ]
  },
  {
   "cell_type": "code",
   "execution_count": 4,
   "id": "c3e24a73-bdfe-485f-b44a-94bc7dfa6fe3",
   "metadata": {},
   "outputs": [],
   "source": [
    "html = \"<!DOCTYPE html><html><head><title>Page Title</title></head><body><h3><b id='boldest'>Lebron James</b></h3><p> Salary: $ 92,000,000 </p><h3> Stephen Curry</h3><p> Salary: $85,000, 000 </p><h3> Kevin Durant </h3><p> Salary: $73,200, 000</p></body></html>\""
   ]
  },
  {
   "cell_type": "markdown",
   "id": "58358d45-eb58-494e-a561-45e2444014ee",
   "metadata": {},
   "source": [
    "To parse a document, pass it onto the `BeautifulSoup` constructor. The `BeautifulSoup` object represents the document as a nested data structure:"
   ]
  },
  {
   "cell_type": "code",
   "execution_count": 5,
   "id": "e7bb2f1c-3851-47e4-a25a-14510df9bc2f",
   "metadata": {},
   "outputs": [],
   "source": [
    "soup = BeautifulSoup(html, 'html5lib')"
   ]
  },
  {
   "cell_type": "markdown",
   "id": "cb465f7c-21f7-414c-9835-0a1784697bcd",
   "metadata": {},
   "source": [
    "First, the document is converted to Unicode (similar to ASCII) and HTML entities are converted to Unicode characters. Beautiful Soup transforms a complex HTML document into a complex tree of Python objects. The `BEautifulSoup` object can create other types of objects. In this lab, we will cover `BeautifulSoup` and `Tag` objects, that for the purposes of this lab are identical. Finally, we will look at `NavigableString` objects.\n",
    "\n",
    "We can use the method `prettify()` to display the HTML in the nested structure:"
   ]
  },
  {
   "cell_type": "code",
   "execution_count": 6,
   "id": "c9e81c1f-1587-45e7-b66d-1f6b3cfd12ba",
   "metadata": {},
   "outputs": [
    {
     "name": "stdout",
     "output_type": "stream",
     "text": [
      "<!DOCTYPE html>\n",
      "<html>\n",
      " <head>\n",
      "  <title>\n",
      "   Page Title\n",
      "  </title>\n",
      " </head>\n",
      " <body>\n",
      "  <h3>\n",
      "   <b id=\"boldest\">\n",
      "    Lebron James\n",
      "   </b>\n",
      "  </h3>\n",
      "  <p>\n",
      "   Salary: $ 92,000,000\n",
      "  </p>\n",
      "  <h3>\n",
      "   Stephen Curry\n",
      "  </h3>\n",
      "  <p>\n",
      "   Salary: $85,000, 000\n",
      "  </p>\n",
      "  <h3>\n",
      "   Kevin Durant\n",
      "  </h3>\n",
      "  <p>\n",
      "   Salary: $73,200, 000\n",
      "  </p>\n",
      " </body>\n",
      "</html>\n",
      "\n"
     ]
    }
   ],
   "source": [
    "print(soup.prettify())"
   ]
  },
  {
   "cell_type": "markdown",
   "id": "6b24e072-a0bc-4c6c-b0e3-bd8a23b3e647",
   "metadata": {},
   "source": [
    "### Tags\n",
    "\n",
    "Let's say we want the title of the page and the name of the top paid player. We can use the `Tag`. The `Tag` object corresponds to an HTML tag in the original document, for example, the tag `title`"
   ]
  },
  {
   "cell_type": "code",
   "execution_count": 7,
   "id": "834bb5f4-f9f8-4c1a-9aa9-9f9c3dc6b892",
   "metadata": {},
   "outputs": [
    {
     "name": "stdout",
     "output_type": "stream",
     "text": [
      "Tag Object:  <title>Page Title</title>\n"
     ]
    }
   ],
   "source": [
    "tag_object = soup.title\n",
    "\n",
    "print(\"Tag Object: \", tag_object)"
   ]
  },
  {
   "cell_type": "markdown",
   "id": "e20ac422-22e6-4fb4-86a7-0001ee8d8e18",
   "metadata": {},
   "source": [
    "We can see the tag type `bs4.element.Tag`"
   ]
  },
  {
   "cell_type": "code",
   "execution_count": 8,
   "id": "4901ab6b-e25b-429e-ba92-dcb706c954b6",
   "metadata": {},
   "outputs": [
    {
     "name": "stdout",
     "output_type": "stream",
     "text": [
      "Tag Object Type:  <class 'bs4.element.Tag'>\n"
     ]
    }
   ],
   "source": [
    "print(\"Tag Object Type: \", type(tag_object))"
   ]
  },
  {
   "cell_type": "markdown",
   "id": "e9babcf6-0b32-4e32-b017-10fa5fa5a83f",
   "metadata": {},
   "source": [
    "If there is more than one `Tag` with the same name, the first element with that `Tag` name is called. This corresponds to the most paid player:"
   ]
  },
  {
   "cell_type": "code",
   "execution_count": 9,
   "id": "bc39d012-37d9-4ef9-be4e-a5a4a300275d",
   "metadata": {},
   "outputs": [
    {
     "data": {
      "text/plain": [
       "<h3><b id=\"boldest\">Lebron James</b></h3>"
      ]
     },
     "execution_count": 9,
     "metadata": {},
     "output_type": "execute_result"
    }
   ],
   "source": [
    "tag_object = soup.h3\n",
    "tag_object"
   ]
  },
  {
   "cell_type": "markdown",
   "id": "7fb534db-0128-450a-9038-28956ecbc9a7",
   "metadata": {},
   "source": [
    "Enclosed in the bold attribute `b`, it helps to use the tree representation. We can navigate down the tree using the child attribute to get the name.\n",
    "\n",
    "\n",
    "### Children, Parents, and Siblings\n",
    "\n",
    "As stated above, the `Tag` object is a tree of objects. We can access the child of the tag or navigate down the branch as follows:"
   ]
  },
  {
   "cell_type": "code",
   "execution_count": 10,
   "id": "c22a26e8-3dad-4cee-b89b-717e8c3b9540",
   "metadata": {},
   "outputs": [
    {
     "data": {
      "text/plain": [
       "<b id=\"boldest\">Lebron James</b>"
      ]
     },
     "execution_count": 10,
     "metadata": {},
     "output_type": "execute_result"
    }
   ],
   "source": [
    "tag_child = tag_object.b\n",
    "tag_child"
   ]
  },
  {
   "cell_type": "markdown",
   "id": "0b8cded7-e05a-477e-856c-d6d3cf670dee",
   "metadata": {},
   "source": [
    "You can access the parent with the `parent`"
   ]
  },
  {
   "cell_type": "code",
   "execution_count": 11,
   "id": "1ef0480f-e9d1-4434-a4d3-3899da61d52d",
   "metadata": {},
   "outputs": [
    {
     "data": {
      "text/plain": [
       "<h3><b id=\"boldest\">Lebron James</b></h3>"
      ]
     },
     "execution_count": 11,
     "metadata": {},
     "output_type": "execute_result"
    }
   ],
   "source": [
    "parent_tag = tag_child.parent\n",
    "parent_tag"
   ]
  },
  {
   "cell_type": "markdown",
   "id": "34ecf15e-1fdc-446d-87a5-32aacc2923da",
   "metadata": {},
   "source": [
    "This is identical to:"
   ]
  },
  {
   "cell_type": "code",
   "execution_count": 12,
   "id": "61b4f11d-1a0d-477c-b308-fe28088a5157",
   "metadata": {},
   "outputs": [
    {
     "data": {
      "text/plain": [
       "<h3><b id=\"boldest\">Lebron James</b></h3>"
      ]
     },
     "execution_count": 12,
     "metadata": {},
     "output_type": "execute_result"
    }
   ],
   "source": [
    "tag_object"
   ]
  },
  {
   "cell_type": "markdown",
   "id": "fadafd7b-7b92-4197-b6d2-65b6b6990f4e",
   "metadata": {},
   "source": [
    "`tag_object` parent is the `body` element."
   ]
  },
  {
   "cell_type": "code",
   "execution_count": 13,
   "id": "569acfc8-a47d-4d44-aae8-8b51b26d21c8",
   "metadata": {},
   "outputs": [
    {
     "data": {
      "text/plain": [
       "<body><h3><b id=\"boldest\">Lebron James</b></h3><p> Salary: $ 92,000,000 </p><h3> Stephen Curry</h3><p> Salary: $85,000, 000 </p><h3> Kevin Durant </h3><p> Salary: $73,200, 000</p></body>"
      ]
     },
     "execution_count": 13,
     "metadata": {},
     "output_type": "execute_result"
    }
   ],
   "source": [
    "tag_object.parent"
   ]
  },
  {
   "cell_type": "markdown",
   "id": "02fdb2c8-1ba8-48c5-90c2-a52dc9b470d1",
   "metadata": {},
   "source": [
    "`tag_object` sibling is the `paragraph` element."
   ]
  },
  {
   "cell_type": "code",
   "execution_count": 14,
   "id": "2ec17630-fe31-44b9-bd19-cfe033c9e90f",
   "metadata": {},
   "outputs": [
    {
     "data": {
      "text/plain": [
       "<p> Salary: $ 92,000,000 </p>"
      ]
     },
     "execution_count": 14,
     "metadata": {},
     "output_type": "execute_result"
    }
   ],
   "source": [
    "sibling_1 = tag_object.next_sibling\n",
    "sibling_1"
   ]
  },
  {
   "cell_type": "markdown",
   "id": "01350d9a-6c87-45c0-9066-7c557f260006",
   "metadata": {},
   "source": [
    "`sibling_2` is the `header` element, which is also a sibling of both `sibling_1` and `tag_object`."
   ]
  },
  {
   "cell_type": "code",
   "execution_count": 15,
   "id": "b8eff139-1223-433b-a343-bff49363cbb9",
   "metadata": {},
   "outputs": [
    {
     "data": {
      "text/plain": [
       "<h3> Stephen Curry</h3>"
      ]
     },
     "execution_count": 15,
     "metadata": {},
     "output_type": "execute_result"
    }
   ],
   "source": [
    "sibling_2 = sibling_1.next_sibling\n",
    "sibling_2"
   ]
  },
  {
   "cell_type": "markdown",
   "id": "c51c4f2c-f686-419a-a6d6-644169e6f258",
   "metadata": {},
   "source": [
    "### Exercise: **next_sibling**\n",
    "\n",
    "Use the object `sibling_2` and the method `next_sibling` to find the salary of Stephen C"
   ]
  },
  {
   "cell_type": "code",
   "execution_count": 19,
   "id": "3195cd58-ba77-45af-b8e8-54ed444dec53",
   "metadata": {},
   "outputs": [
    {
     "data": {
      "text/plain": [
       "<p> Salary: $85,000, 000 </p>"
      ]
     },
     "execution_count": 19,
     "metadata": {},
     "output_type": "execute_result"
    }
   ],
   "source": [
    "sibling_3 = sibling_2.next_sibling\n",
    "sibling_3"
   ]
  },
  {
   "cell_type": "markdown",
   "id": "7edaaddd-8a94-47ab-9ad6-4929dbe37171",
   "metadata": {},
   "source": [
    "### HTML Attributes\n",
    "\n",
    "If the tag has attributes, the tag `id = \"boldest\"` has an attribute `id` whose value is `boldest`. You can access a tag's attributes by treating the tag like a dictionary:"
   ]
  },
  {
   "cell_type": "code",
   "execution_count": 20,
   "id": "645cf932-2e58-44c6-85e3-6b2021d57235",
   "metadata": {},
   "outputs": [
    {
     "data": {
      "text/plain": [
       "'boldest'"
      ]
     },
     "execution_count": 20,
     "metadata": {},
     "output_type": "execute_result"
    }
   ],
   "source": [
    "tag_child['id']"
   ]
  },
  {
   "cell_type": "markdown",
   "id": "30f74b7c-e956-454c-8511-1565c45818ec",
   "metadata": {},
   "source": [
    "You can access that dictionary directly as `attrs`:"
   ]
  },
  {
   "cell_type": "code",
   "execution_count": 21,
   "id": "8d518f0d-b7b7-4068-9b3b-1b67a4f31349",
   "metadata": {},
   "outputs": [
    {
     "data": {
      "text/plain": [
       "{'id': 'boldest'}"
      ]
     },
     "execution_count": 21,
     "metadata": {},
     "output_type": "execute_result"
    }
   ],
   "source": [
    "tag_child.attrs"
   ]
  },
  {
   "cell_type": "markdown",
   "id": "4443f53d-446c-455d-809c-e4d283942c60",
   "metadata": {},
   "source": [
    "You can also work with multi-valued attributes. Check out [[1]](https://www.crummy.com/software/BeautifulSoup/bs4/doc/) for more\n",
    "\n",
    "We can also obtain the content of the attribute of the `tag` using the Python `get()` method."
   ]
  },
  {
   "cell_type": "code",
   "execution_count": 22,
   "id": "4e269e2e-4ceb-4dc5-82d0-c4d9931d2928",
   "metadata": {},
   "outputs": [
    {
     "data": {
      "text/plain": [
       "'boldest'"
      ]
     },
     "execution_count": 22,
     "metadata": {},
     "output_type": "execute_result"
    }
   ],
   "source": [
    "tag_child.get('id')"
   ]
  },
  {
   "cell_type": "markdown",
   "id": "a18140eb-d71c-496f-856d-d3b9a66cbda3",
   "metadata": {},
   "source": [
    "### Navigable String\n",
    "\n",
    "A string corresponds to a bit of text or content within a tag. Beautiful Soup uses the `NavigableString` class to contain this text. In our HTML we can obtain the name of the first player by extracting the string of the `Tag` object `tag_child` as follows:"
   ]
  },
  {
   "cell_type": "code",
   "execution_count": 24,
   "id": "c2da0d5c-9a5f-475d-bb23-7eaba9487968",
   "metadata": {},
   "outputs": [
    {
     "data": {
      "text/plain": [
       "'Lebron James'"
      ]
     },
     "execution_count": 24,
     "metadata": {},
     "output_type": "execute_result"
    }
   ],
   "source": [
    "tag_string = tag_child.string\n",
    "tag_string"
   ]
  },
  {
   "cell_type": "markdown",
   "id": "2a0d0e74-6b3d-4b3c-8d3f-19f781c01d6e",
   "metadata": {},
   "source": [
    "We can verify the type is Navigable String"
   ]
  },
  {
   "cell_type": "code",
   "execution_count": 25,
   "id": "a7c636d4-cca3-406f-8c29-8f0bd62292ce",
   "metadata": {},
   "outputs": [
    {
     "data": {
      "text/plain": [
       "bs4.element.NavigableString"
      ]
     },
     "execution_count": 25,
     "metadata": {},
     "output_type": "execute_result"
    }
   ],
   "source": [
    "type(tag_string)"
   ]
  },
  {
   "cell_type": "markdown",
   "id": "d33a15b1-0ed0-4dfc-bc7e-c971c5c00020",
   "metadata": {},
   "source": [
    "A NavigableString is similar to a Python string or Unicode string. To be more precise, the main difference is that it also supports some `BeautifulSoup` features. We can convert it to a string object in Python:"
   ]
  },
  {
   "cell_type": "code",
   "execution_count": 26,
   "id": "55dc7dfc-ad63-45bd-9dda-e719b5cc7e86",
   "metadata": {},
   "outputs": [
    {
     "data": {
      "text/plain": [
       "'Lebron James'"
      ]
     },
     "execution_count": 26,
     "metadata": {},
     "output_type": "execute_result"
    }
   ],
   "source": [
    "unicode_string = str(tag_string)\n",
    "unicode_string"
   ]
  },
  {
   "cell_type": "code",
   "execution_count": 27,
   "id": "5ff403c0-c6cc-43dd-8a83-8e31373fdd7e",
   "metadata": {},
   "outputs": [
    {
     "data": {
      "text/plain": [
       "str"
      ]
     },
     "execution_count": 27,
     "metadata": {},
     "output_type": "execute_result"
    }
   ],
   "source": [
    "type(unicode_string)"
   ]
  },
  {
   "cell_type": "markdown",
   "id": "c8b26378-f667-472e-ab1c-a39f7cde117b",
   "metadata": {},
   "source": [
    "### Filter\n",
    "\n",
    "Filters allow you to find complex patterns, the simplest filter is a string. In this section we will pass a string to a different filter method and Beautiful Soup will perform a match against the exact string. Consider the following HTML of rocket launches:"
   ]
  },
  {
   "cell_type": "code",
   "execution_count": 28,
   "id": "c6dfa81a-7af1-48c2-9ff8-284ab2df766c",
   "metadata": {},
   "outputs": [
    {
     "data": {
      "text/html": [
       "<table>\n",
       "  <tr>\n",
       "    <td id='flight' >Flight No</td>\n",
       "    <td>Launch site</td> \n",
       "    <td>Payload mass</td>\n",
       "   </tr>\n",
       "  <tr> \n",
       "    <td>1</td>\n",
       "    <td><a href='https://en.wikipedia.org/wiki/Florida'>Florida</a></td>\n",
       "    <td>300 kg</td>\n",
       "  </tr>\n",
       "  <tr>\n",
       "    <td>2</td>\n",
       "    <td><a href='https://en.wikipedia.org/wiki/Texas'>Texas</a></td>\n",
       "    <td>94 kg</td>\n",
       "  </tr>\n",
       "  <tr>\n",
       "    <td>3</td>\n",
       "    <td><a href='https://en.wikipedia.org/wiki/Florida'>Florida<a> </td>\n",
       "    <td>80 kg</td>\n",
       "  </tr>\n",
       "</table>\n"
      ],
      "text/plain": [
       "<IPython.core.display.HTML object>"
      ]
     },
     "metadata": {},
     "output_type": "display_data"
    }
   ],
   "source": [
    "%%html\n",
    "<table>\n",
    "  <tr>\n",
    "    <td id='flight' >Flight No</td>\n",
    "    <td>Launch site</td> \n",
    "    <td>Payload mass</td>\n",
    "   </tr>\n",
    "  <tr> \n",
    "    <td>1</td>\n",
    "    <td><a href='https://en.wikipedia.org/wiki/Florida'>Florida</a></td>\n",
    "    <td>300 kg</td>\n",
    "  </tr>\n",
    "  <tr>\n",
    "    <td>2</td>\n",
    "    <td><a href='https://en.wikipedia.org/wiki/Texas'>Texas</a></td>\n",
    "    <td>94 kg</td>\n",
    "  </tr>\n",
    "  <tr>\n",
    "    <td>3</td>\n",
    "    <td><a href='https://en.wikipedia.org/wiki/Florida'>Florida<a> </td>\n",
    "    <td>80 kg</td>\n",
    "  </tr>\n",
    "</table>"
   ]
  },
  {
   "cell_type": "markdown",
   "id": "d6b6cc72-a06c-4309-9197-ce60b5bbd235",
   "metadata": {},
   "source": [
    "We can store it as a string in the variable `table`:"
   ]
  },
  {
   "cell_type": "code",
   "execution_count": 29,
   "id": "9d2ddf7d-cf48-462c-9015-6ee8be8add59",
   "metadata": {},
   "outputs": [],
   "source": [
    "table = \"<table><tr><td id='flight'>Flight No</td><td>Launch site</td> <td>Payload mass</td></tr><tr> <td>1</td><td><a href='https://en.wikipedia.org/wiki/Florida'>Florida<a></td><td>300 kg</td></tr><tr><td>2</td><td><a href='https://en.wikipedia.org/wiki/Texas'>Texas</a></td><td>94 kg</td></tr><tr><td>3</td><td><a href='https://en.wikipedia.org/wiki/Florida'>Florida<a> </td><td>80 kg</td></tr></table>\""
   ]
  },
  {
   "cell_type": "code",
   "execution_count": 31,
   "id": "58efd8c4-7b75-4187-a7da-1a58ab7df735",
   "metadata": {},
   "outputs": [],
   "source": [
    "table_bs = BeautifulSoup(table, 'html5lib')"
   ]
  },
  {
   "cell_type": "markdown",
   "id": "cd0a482e-fcda-410a-8cb4-baccdfe8dd21",
   "metadata": {},
   "source": [
    "### Find All\n",
    "\n",
    "The `find_all()` method looks through a tag's descenants and retrieves all descendants that match your filters.\n",
    "\n",
    "The method signature for `find_all(name, attrs, recursive, string, limit, **kwargs)\n",
    "\n",
    "\n",
    "### Name\n",
    "\n",
    "When we set the `name` parameter to a tag name, the method will extract all the tags with that name and its children."
   ]
  },
  {
   "cell_type": "code",
   "execution_count": 32,
   "id": "4913d940-3ee0-44d6-b389-0b12999cf6da",
   "metadata": {},
   "outputs": [
    {
     "data": {
      "text/plain": [
       "[<tr><td id=\"flight\">Flight No</td><td>Launch site</td> <td>Payload mass</td></tr>,\n",
       " <tr> <td>1</td><td><a href=\"https://en.wikipedia.org/wiki/Florida\">Florida</a><a></a></td><td>300 kg</td></tr>,\n",
       " <tr><td>2</td><td><a href=\"https://en.wikipedia.org/wiki/Texas\">Texas</a></td><td>94 kg</td></tr>,\n",
       " <tr><td>3</td><td><a href=\"https://en.wikipedia.org/wiki/Florida\">Florida</a><a> </a></td><td>80 kg</td></tr>]"
      ]
     },
     "execution_count": 32,
     "metadata": {},
     "output_type": "execute_result"
    }
   ],
   "source": [
    "table_rows = table_bs.find_all('tr')\n",
    "table_rows"
   ]
  },
  {
   "cell_type": "markdown",
   "id": "c3947af2-b583-4e0e-b860-a7c8a91317a9",
   "metadata": {},
   "source": [
    "The result is a Python iterable just like a list, each elements is a `tag` object:"
   ]
  },
  {
   "cell_type": "code",
   "execution_count": 33,
   "id": "a5c75b4e-bd97-4186-959c-f46f73971d92",
   "metadata": {},
   "outputs": [
    {
     "data": {
      "text/plain": [
       "<tr><td id=\"flight\">Flight No</td><td>Launch site</td> <td>Payload mass</td></tr>"
      ]
     },
     "execution_count": 33,
     "metadata": {},
     "output_type": "execute_result"
    }
   ],
   "source": [
    "first_row = table_rows[0]\n",
    "first_row"
   ]
  },
  {
   "cell_type": "markdown",
   "id": "a0f45280-cc7b-4325-aba4-4c8ab4c703d6",
   "metadata": {},
   "source": [
    "The type is `tag`"
   ]
  },
  {
   "cell_type": "code",
   "execution_count": 34,
   "id": "92d92720-ca2b-4d89-af59-e056ac78ff0c",
   "metadata": {},
   "outputs": [
    {
     "name": "stdout",
     "output_type": "stream",
     "text": [
      "<class 'bs4.element.Tag'>\n"
     ]
    }
   ],
   "source": [
    "print(type(first_row))"
   ]
  },
  {
   "cell_type": "markdown",
   "id": "36ccb074-08c6-4f90-91b2-bfc2f5327db9",
   "metadata": {},
   "source": [
    "We can obtain the child:"
   ]
  },
  {
   "cell_type": "code",
   "execution_count": 35,
   "id": "f3117def-578b-40c2-b2cb-a83035e273ee",
   "metadata": {},
   "outputs": [
    {
     "data": {
      "text/plain": [
       "<td id=\"flight\">Flight No</td>"
      ]
     },
     "execution_count": 35,
     "metadata": {},
     "output_type": "execute_result"
    }
   ],
   "source": [
    "first_row.td"
   ]
  },
  {
   "cell_type": "markdown",
   "id": "d62d208a-03e2-4547-98bc-370cfab94e87",
   "metadata": {},
   "source": [
    "If we iterate through the list, each element corresponds to a row in the table:"
   ]
  },
  {
   "cell_type": "code",
   "execution_count": 36,
   "id": "906c6ea7-b329-4381-af14-c9383e08cae5",
   "metadata": {},
   "outputs": [
    {
     "name": "stdout",
     "output_type": "stream",
     "text": [
      "Row  0  is  <tr><td id=\"flight\">Flight No</td><td>Launch site</td> <td>Payload mass</td></tr>\n",
      "Row  1  is  <tr> <td>1</td><td><a href=\"https://en.wikipedia.org/wiki/Florida\">Florida</a><a></a></td><td>300 kg</td></tr>\n",
      "Row  2  is  <tr><td>2</td><td><a href=\"https://en.wikipedia.org/wiki/Texas\">Texas</a></td><td>94 kg</td></tr>\n",
      "Row  3  is  <tr><td>3</td><td><a href=\"https://en.wikipedia.org/wiki/Florida\">Florida</a><a> </a></td><td>80 kg</td></tr>\n"
     ]
    }
   ],
   "source": [
    "for i, row in enumerate(table_rows):\n",
    "    print(\"Row \", i, \" is \", row)"
   ]
  },
  {
   "cell_type": "markdown",
   "id": "307aac68-9f8e-43f8-94b3-03a3fe295317",
   "metadata": {},
   "source": [
    "As `row` is a `cell` object, we can apply the method `find_all` to it and extract table cells in the object `cells` using the tag `td`, this is all the children with the name `td`. The result is a list, each element correspond to a cell and is a `Tag` object, we can iterate through this list as well. We can extract the content using the `string` attribute:"
   ]
  },
  {
   "cell_type": "code",
   "execution_count": 38,
   "id": "35447e87-6ada-469a-966e-f924546eaf07",
   "metadata": {},
   "outputs": [
    {
     "name": "stdout",
     "output_type": "stream",
     "text": [
      "Row  0\n",
      "Column  0  cell  <td id=\"flight\">Flight No</td>\n",
      "Column  1  cell  <td>Launch site</td>\n",
      "Column  2  cell  <td>Payload mass</td>\n",
      "Row  1\n",
      "Column  0  cell  <td>1</td>\n",
      "Column  1  cell  <td><a href=\"https://en.wikipedia.org/wiki/Florida\">Florida</a><a></a></td>\n",
      "Column  2  cell  <td>300 kg</td>\n",
      "Row  2\n",
      "Column  0  cell  <td>2</td>\n",
      "Column  1  cell  <td><a href=\"https://en.wikipedia.org/wiki/Texas\">Texas</a></td>\n",
      "Column  2  cell  <td>94 kg</td>\n",
      "Row  3\n",
      "Column  0  cell  <td>3</td>\n",
      "Column  1  cell  <td><a href=\"https://en.wikipedia.org/wiki/Florida\">Florida</a><a> </a></td>\n",
      "Column  2  cell  <td>80 kg</td>\n"
     ]
    }
   ],
   "source": [
    "for i, row in enumerate(table_rows):\n",
    "    print(\"Row \", i)\n",
    "    cells = row.find_all('td')\n",
    "    for j, cell in enumerate(cells):\n",
    "        print(\"Column \", j, \" cell \", cell)"
   ]
  },
  {
   "cell_type": "markdown",
   "id": "bf81cf22-73a4-4d10-94d8-ba4b1be363a9",
   "metadata": {},
   "source": [
    "If we use a list we can match against any item in that list."
   ]
  },
  {
   "cell_type": "code",
   "execution_count": 39,
   "id": "f799d031-e043-4ccb-b2fa-5f64636e7fa6",
   "metadata": {},
   "outputs": [
    {
     "data": {
      "text/plain": [
       "[<tr><td id=\"flight\">Flight No</td><td>Launch site</td> <td>Payload mass</td></tr>,\n",
       " <td id=\"flight\">Flight No</td>,\n",
       " <td>Launch site</td>,\n",
       " <td>Payload mass</td>,\n",
       " <tr> <td>1</td><td><a href=\"https://en.wikipedia.org/wiki/Florida\">Florida</a><a></a></td><td>300 kg</td></tr>,\n",
       " <td>1</td>,\n",
       " <td><a href=\"https://en.wikipedia.org/wiki/Florida\">Florida</a><a></a></td>,\n",
       " <td>300 kg</td>,\n",
       " <tr><td>2</td><td><a href=\"https://en.wikipedia.org/wiki/Texas\">Texas</a></td><td>94 kg</td></tr>,\n",
       " <td>2</td>,\n",
       " <td><a href=\"https://en.wikipedia.org/wiki/Texas\">Texas</a></td>,\n",
       " <td>94 kg</td>,\n",
       " <tr><td>3</td><td><a href=\"https://en.wikipedia.org/wiki/Florida\">Florida</a><a> </a></td><td>80 kg</td></tr>,\n",
       " <td>3</td>,\n",
       " <td><a href=\"https://en.wikipedia.org/wiki/Florida\">Florida</a><a> </a></td>,\n",
       " <td>80 kg</td>]"
      ]
     },
     "execution_count": 39,
     "metadata": {},
     "output_type": "execute_result"
    }
   ],
   "source": [
    "list_input = table_bs.find_all(name = [\"tr\", \"td\"])\n",
    "list_input"
   ]
  },
  {
   "cell_type": "markdown",
   "id": "3218b987-0401-46d7-969e-50016c728a51",
   "metadata": {},
   "source": [
    "### Attributes\n",
    "\n",
    "If the argument is not recognized it will be turned into a filter on the tag's attributes. For example, with the `id` argument, Beautiful Soup will filter against each tag's `id` attribute. For example, the first `td` elements have a value of `id` of `flight`, therefore we can filter based on that `id` value."
   ]
  },
  {
   "cell_type": "code",
   "execution_count": 40,
   "id": "a312fc97-60b3-48f3-9e39-f7e04858c1b4",
   "metadata": {},
   "outputs": [
    {
     "data": {
      "text/plain": [
       "[<td id=\"flight\">Flight No</td>]"
      ]
     },
     "execution_count": 40,
     "metadata": {},
     "output_type": "execute_result"
    }
   ],
   "source": [
    "table_bs.find_all(id = \"flight\")"
   ]
  },
  {
   "cell_type": "markdown",
   "id": "2c67a205-c274-478a-af62-95e6b51b8d9f",
   "metadata": {},
   "source": [
    "We can find all the elements that have links to the Florida Wikipedia page:"
   ]
  },
  {
   "cell_type": "code",
   "execution_count": 41,
   "id": "bc0e8a46-420e-4def-b0b8-19a27be9a134",
   "metadata": {},
   "outputs": [
    {
     "data": {
      "text/plain": [
       "[<a href=\"https://en.wikipedia.org/wiki/Florida\">Florida</a>,\n",
       " <a href=\"https://en.wikipedia.org/wiki/Florida\">Florida</a>]"
      ]
     },
     "execution_count": 41,
     "metadata": {},
     "output_type": "execute_result"
    }
   ],
   "source": [
    "list_input = table_bs.find_all(href = \"https://en.wikipedia.org/wiki/Florida\")\n",
    "list_input"
   ]
  },
  {
   "cell_type": "markdown",
   "id": "45f72b99-9e2a-4e34-9410-bb3bb0daacf9",
   "metadata": {},
   "source": [
    "If we set the href attribute to True, regardless of what the value is, the code finds all tags with the `href` value:"
   ]
  },
  {
   "cell_type": "code",
   "execution_count": 42,
   "id": "0500a27f-9528-4b2d-81f3-2f23be93d1cd",
   "metadata": {},
   "outputs": [
    {
     "data": {
      "text/plain": [
       "[<a href=\"https://en.wikipedia.org/wiki/Florida\">Florida</a>,\n",
       " <a href=\"https://en.wikipedia.org/wiki/Texas\">Texas</a>,\n",
       " <a href=\"https://en.wikipedia.org/wiki/Florida\">Florida</a>]"
      ]
     },
     "execution_count": 42,
     "metadata": {},
     "output_type": "execute_result"
    }
   ],
   "source": [
    "table_bs.find_all(href = True)"
   ]
  },
  {
   "cell_type": "markdown",
   "id": "57fd07d1-c2f9-44d3-b3a8-7a66c592b693",
   "metadata": {},
   "source": [
    "There are other methods for dealing with attributes and other related methods. Check out the following [link](https://www.crummy.com/software/BeautifulSoup/bs4/doc/#css-selectors)"
   ]
  },
  {
   "cell_type": "markdown",
   "id": "ffe3d3d1-8f49-43c2-9ba7-922abbec69d5",
   "metadata": {},
   "source": [
    "### Exercise: **`find_all`**\n",
    "\n",
    "Using the logic above, find all the elements without the `href` value"
   ]
  },
  {
   "cell_type": "code",
   "execution_count": 45,
   "id": "464ba892-d2df-4ff7-b7ba-74e337fd2af0",
   "metadata": {},
   "outputs": [
    {
     "data": {
      "text/plain": [
       "[<html><head></head><body><table><tbody><tr><td id=\"flight\">Flight No</td><td>Launch site</td> <td>Payload mass</td></tr><tr> <td>1</td><td><a href=\"https://en.wikipedia.org/wiki/Florida\">Florida</a><a></a></td><td>300 kg</td></tr><tr><td>2</td><td><a href=\"https://en.wikipedia.org/wiki/Texas\">Texas</a></td><td>94 kg</td></tr><tr><td>3</td><td><a href=\"https://en.wikipedia.org/wiki/Florida\">Florida</a><a> </a></td><td>80 kg</td></tr></tbody></table></body></html>,\n",
       " <head></head>,\n",
       " <body><table><tbody><tr><td id=\"flight\">Flight No</td><td>Launch site</td> <td>Payload mass</td></tr><tr> <td>1</td><td><a href=\"https://en.wikipedia.org/wiki/Florida\">Florida</a><a></a></td><td>300 kg</td></tr><tr><td>2</td><td><a href=\"https://en.wikipedia.org/wiki/Texas\">Texas</a></td><td>94 kg</td></tr><tr><td>3</td><td><a href=\"https://en.wikipedia.org/wiki/Florida\">Florida</a><a> </a></td><td>80 kg</td></tr></tbody></table></body>,\n",
       " <table><tbody><tr><td id=\"flight\">Flight No</td><td>Launch site</td> <td>Payload mass</td></tr><tr> <td>1</td><td><a href=\"https://en.wikipedia.org/wiki/Florida\">Florida</a><a></a></td><td>300 kg</td></tr><tr><td>2</td><td><a href=\"https://en.wikipedia.org/wiki/Texas\">Texas</a></td><td>94 kg</td></tr><tr><td>3</td><td><a href=\"https://en.wikipedia.org/wiki/Florida\">Florida</a><a> </a></td><td>80 kg</td></tr></tbody></table>,\n",
       " <tbody><tr><td id=\"flight\">Flight No</td><td>Launch site</td> <td>Payload mass</td></tr><tr> <td>1</td><td><a href=\"https://en.wikipedia.org/wiki/Florida\">Florida</a><a></a></td><td>300 kg</td></tr><tr><td>2</td><td><a href=\"https://en.wikipedia.org/wiki/Texas\">Texas</a></td><td>94 kg</td></tr><tr><td>3</td><td><a href=\"https://en.wikipedia.org/wiki/Florida\">Florida</a><a> </a></td><td>80 kg</td></tr></tbody>,\n",
       " <tr><td id=\"flight\">Flight No</td><td>Launch site</td> <td>Payload mass</td></tr>,\n",
       " <td id=\"flight\">Flight No</td>,\n",
       " <td>Launch site</td>,\n",
       " <td>Payload mass</td>,\n",
       " <tr> <td>1</td><td><a href=\"https://en.wikipedia.org/wiki/Florida\">Florida</a><a></a></td><td>300 kg</td></tr>,\n",
       " <td>1</td>,\n",
       " <td><a href=\"https://en.wikipedia.org/wiki/Florida\">Florida</a><a></a></td>,\n",
       " <a></a>,\n",
       " <td>300 kg</td>,\n",
       " <tr><td>2</td><td><a href=\"https://en.wikipedia.org/wiki/Texas\">Texas</a></td><td>94 kg</td></tr>,\n",
       " <td>2</td>,\n",
       " <td><a href=\"https://en.wikipedia.org/wiki/Texas\">Texas</a></td>,\n",
       " <td>94 kg</td>,\n",
       " <tr><td>3</td><td><a href=\"https://en.wikipedia.org/wiki/Florida\">Florida</a><a> </a></td><td>80 kg</td></tr>,\n",
       " <td>3</td>,\n",
       " <td><a href=\"https://en.wikipedia.org/wiki/Florida\">Florida</a><a> </a></td>,\n",
       " <a> </a>,\n",
       " <td>80 kg</td>]"
      ]
     },
     "execution_count": 45,
     "metadata": {},
     "output_type": "execute_result"
    }
   ],
   "source": [
    "table_bs.find_all(href = False)"
   ]
  },
  {
   "cell_type": "markdown",
   "id": "7b86243e-b09a-4ca6-ace6-e34cdc3c8227",
   "metadata": {},
   "source": [
    "Using the soup object `soup`, find the element with the `id` attribute content set to `\"boldest\"`"
   ]
  },
  {
   "cell_type": "code",
   "execution_count": 59,
   "id": "faaffafa-d8b9-4179-b2d0-9bbb10da41ce",
   "metadata": {},
   "outputs": [
    {
     "data": {
      "text/plain": [
       "[<b id=\"boldest\">Lebron James</b>]"
      ]
     },
     "execution_count": 59,
     "metadata": {},
     "output_type": "execute_result"
    }
   ],
   "source": [
    "soup.find_all(id = \"boldest\")"
   ]
  },
  {
   "cell_type": "markdown",
   "id": "48e6a286-b09b-4649-aa76-3da9771d315c",
   "metadata": {},
   "source": [
    "### String\n",
    "\n",
    "With string you can search for strings instead of tags, where we find all the elements with Florida:"
   ]
  },
  {
   "cell_type": "code",
   "execution_count": 61,
   "id": "a9aba70b-5470-4be2-81ab-2fd7aeb8434a",
   "metadata": {},
   "outputs": [
    {
     "data": {
      "text/plain": [
       "['Florida', 'Florida']"
      ]
     },
     "execution_count": 61,
     "metadata": {},
     "output_type": "execute_result"
    }
   ],
   "source": [
    "table_bs.find_all(string = \"Florida\")"
   ]
  },
  {
   "cell_type": "markdown",
   "id": "f041ad94-49d7-4991-8dbf-f69062e58ca7",
   "metadata": {},
   "source": [
    "### Find\n",
    "\n",
    "The `find_all()` method scans the entire document looking for results. It's useful if you are looking for one element, as you can use the `find()` method to find the first element in the document. Consider the following two tables:"
   ]
  },
  {
   "cell_type": "code",
   "execution_count": 62,
   "id": "010a7a6e-34b3-4f4b-927c-bd669ed094db",
   "metadata": {},
   "outputs": [
    {
     "data": {
      "text/html": [
       "<h3>Rocket Launch </h3>\n",
       "\n",
       "<p>\n",
       "<table class='rocket'>\n",
       "  <tr>\n",
       "    <td>Flight No</td>\n",
       "    <td>Launch site</td> \n",
       "    <td>Payload mass</td>\n",
       "  </tr>\n",
       "  <tr>\n",
       "    <td>1</td>\n",
       "    <td>Florida</td>\n",
       "    <td>300 kg</td>\n",
       "  </tr>\n",
       "  <tr>\n",
       "    <td>2</td>\n",
       "    <td>Texas</td>\n",
       "    <td>94 kg</td>\n",
       "  </tr>\n",
       "  <tr>\n",
       "    <td>3</td>\n",
       "    <td>Florida </td>\n",
       "    <td>80 kg</td>\n",
       "  </tr>\n",
       "</table>\n",
       "</p>\n",
       "<p>\n",
       "\n",
       "<h3>Pizza Party  </h3>\n",
       "  \n",
       "    \n",
       "<table class='pizza'>\n",
       "  <tr>\n",
       "    <td>Pizza Place</td>\n",
       "    <td>Orders</td> \n",
       "    <td>Slices </td>\n",
       "   </tr>\n",
       "  <tr>\n",
       "    <td>Domino's Pizza</td>\n",
       "    <td>10</td>\n",
       "    <td>100</td>\n",
       "  </tr>\n",
       "  <tr>\n",
       "    <td>Little Caesars</td>\n",
       "    <td>12</td>\n",
       "    <td >144 </td>\n",
       "  </tr>\n",
       "  <tr>\n",
       "    <td>Papa John's </td>\n",
       "    <td>15 </td>\n",
       "    <td>165</td>\n",
       "  </tr>\n"
      ],
      "text/plain": [
       "<IPython.core.display.HTML object>"
      ]
     },
     "metadata": {},
     "output_type": "display_data"
    }
   ],
   "source": [
    "%%html\n",
    "<h3>Rocket Launch </h3>\n",
    "\n",
    "<p>\n",
    "<table class='rocket'>\n",
    "  <tr>\n",
    "    <td>Flight No</td>\n",
    "    <td>Launch site</td> \n",
    "    <td>Payload mass</td>\n",
    "  </tr>\n",
    "  <tr>\n",
    "    <td>1</td>\n",
    "    <td>Florida</td>\n",
    "    <td>300 kg</td>\n",
    "  </tr>\n",
    "  <tr>\n",
    "    <td>2</td>\n",
    "    <td>Texas</td>\n",
    "    <td>94 kg</td>\n",
    "  </tr>\n",
    "  <tr>\n",
    "    <td>3</td>\n",
    "    <td>Florida </td>\n",
    "    <td>80 kg</td>\n",
    "  </tr>\n",
    "</table>\n",
    "</p>\n",
    "<p>\n",
    "\n",
    "<h3>Pizza Party  </h3>\n",
    "  \n",
    "    \n",
    "<table class='pizza'>\n",
    "  <tr>\n",
    "    <td>Pizza Place</td>\n",
    "    <td>Orders</td> \n",
    "    <td>Slices </td>\n",
    "   </tr>\n",
    "  <tr>\n",
    "    <td>Domino's Pizza</td>\n",
    "    <td>10</td>\n",
    "    <td>100</td>\n",
    "  </tr>\n",
    "  <tr>\n",
    "    <td>Little Caesars</td>\n",
    "    <td>12</td>\n",
    "    <td >144 </td>\n",
    "  </tr>\n",
    "  <tr>\n",
    "    <td>Papa John's </td>\n",
    "    <td>15 </td>\n",
    "    <td>165</td>\n",
    "  </tr>\n"
   ]
  },
  {
   "cell_type": "markdown",
   "id": "50ab0e2e-439f-44c6-99d3-c077e323611f",
   "metadata": {},
   "source": [
    "We store the HTML as a Python string and assign `two_tables`:"
   ]
  },
  {
   "cell_type": "code",
   "execution_count": 63,
   "id": "b55c07df-0107-4c20-89ff-a596e5af99e4",
   "metadata": {},
   "outputs": [],
   "source": [
    "two_tables=\"<h3>Rocket Launch </h3><p><table class='rocket'><tr><td>Flight No</td><td>Launch site</td> <td>Payload mass</td></tr><tr><td>1</td><td>Florida</td><td>300 kg</td></tr><tr><td>2</td><td>Texas</td><td>94 kg</td></tr><tr><td>3</td><td>Florida </td><td>80 kg</td></tr></table></p><p><h3>Pizza Party  </h3><table class='pizza'><tr><td>Pizza Place</td><td>Orders</td> <td>Slices </td></tr><tr><td>Domino's Pizza</td><td>10</td><td>100</td></tr><tr><td>Little Caesars</td><td>12</td><td >144 </td></tr><tr><td>Papa John's </td><td>15 </td><td>165</td></tr>\""
   ]
  },
  {
   "cell_type": "markdown",
   "id": "2b6776aa-bce3-47f2-aef5-a5811757668b",
   "metadata": {},
   "source": [
    "We create a `BeautifulSoup` object `two_tables_bs`"
   ]
  },
  {
   "cell_type": "code",
   "execution_count": 65,
   "id": "5a04e2e7-a29a-42f2-b40c-b251d35b6b1b",
   "metadata": {},
   "outputs": [],
   "source": [
    "two_tables_bs = BeautifulSoup(two_tables, 'html.parser')"
   ]
  },
  {
   "cell_type": "markdown",
   "id": "641c2b3a-d943-4471-b3cd-12a3bd558ddf",
   "metadata": {},
   "source": [
    "We can find the first table using the tag `name table`"
   ]
  },
  {
   "cell_type": "code",
   "execution_count": 66,
   "id": "7c507a2f-7f08-4cdc-a5a5-d13650e47081",
   "metadata": {},
   "outputs": [
    {
     "data": {
      "text/plain": [
       "<table class=\"rocket\"><tr><td>Flight No</td><td>Launch site</td> <td>Payload mass</td></tr><tr><td>1</td><td>Florida</td><td>300 kg</td></tr><tr><td>2</td><td>Texas</td><td>94 kg</td></tr><tr><td>3</td><td>Florida </td><td>80 kg</td></tr></table>"
      ]
     },
     "execution_count": 66,
     "metadata": {},
     "output_type": "execute_result"
    }
   ],
   "source": [
    "two_tables_bs.find(\"table\")"
   ]
  },
  {
   "cell_type": "markdown",
   "id": "fb8c7312-339e-4b7a-8a94-8f34d98d273b",
   "metadata": {},
   "source": [
    "We can filter on the class attribute to find the second table, but because class is a keyword in Python, we add an underscore to differentiate them."
   ]
  },
  {
   "cell_type": "code",
   "execution_count": 67,
   "id": "0faa0c13-9793-4fcd-9b93-b9ae4c09bf77",
   "metadata": {},
   "outputs": [
    {
     "data": {
      "text/plain": [
       "<table class=\"pizza\"><tr><td>Pizza Place</td><td>Orders</td> <td>Slices </td></tr><tr><td>Domino's Pizza</td><td>10</td><td>100</td></tr><tr><td>Little Caesars</td><td>12</td><td>144 </td></tr><tr><td>Papa John's </td><td>15 </td><td>165</td></tr></table>"
      ]
     },
     "execution_count": 67,
     "metadata": {},
     "output_type": "execute_result"
    }
   ],
   "source": [
    "two_tables_bs.find(\"table\", class_ = 'pizza')"
   ]
  },
  {
   "cell_type": "markdown",
   "id": "bc13a66b-58b5-4411-a3a1-bbbaa58472c3",
   "metadata": {},
   "source": [
    "## Downloading and Scraping the Contents of a Web Page\n",
    "\n",
    "We download the contents of the web page:"
   ]
  },
  {
   "cell_type": "code",
   "execution_count": 68,
   "id": "e4b4a7ea-09f0-4045-ba6a-ea9b9e86375f",
   "metadata": {},
   "outputs": [],
   "source": [
    "url = \"http://www.ibm.com\""
   ]
  },
  {
   "cell_type": "markdown",
   "id": "5e5c1067-dde8-48be-b829-a68ac11c5ed0",
   "metadata": {},
   "source": [
    "We use `GET` to download the contents of the web page in text format and store in a variable called `data`:"
   ]
  },
  {
   "cell_type": "code",
   "execution_count": 69,
   "id": "dacfef44-89f7-4cf6-862d-441ed2381f30",
   "metadata": {},
   "outputs": [],
   "source": [
    "data = requests.get(url).text"
   ]
  },
  {
   "cell_type": "markdown",
   "id": "228a52cb-d016-4250-8450-6c116999172b",
   "metadata": {},
   "source": [
    "We create a `BeautifulSoup` object using the `BeautifulSoup` constructor."
   ]
  },
  {
   "cell_type": "code",
   "execution_count": 70,
   "id": "78d3a78a-8bc2-4a0a-9f74-f12d2c8a79e7",
   "metadata": {},
   "outputs": [],
   "source": [
    "# Create a soup object using the variable 'data'\n",
    "soup = BeautifulSoup(data, \"html5lib\")"
   ]
  },
  {
   "cell_type": "markdown",
   "id": "d7b2d06a-71ba-436c-9154-aeba746470ff",
   "metadata": {},
   "source": [
    "Scrape all links"
   ]
  },
  {
   "cell_type": "code",
   "execution_count": 72,
   "id": "ed03ae40-741f-4aac-94d1-38ade44fae43",
   "metadata": {},
   "outputs": [
    {
     "name": "stdout",
     "output_type": "stream",
     "text": [
      "https://www.ibm.com/granite?lnk=dev\n",
      "https://developer.ibm.com/technologies/artificial-intelligence?lnk=dev\n",
      "https://www.ibm.com/products/watsonx-code-assistant?lnk=dev\n",
      "https://www.ibm.com/watsonx/developer/?lnk=dev\n",
      "https://www.ibm.com/thought-leadership/institute-business-value/report/ceo-generative-ai?lnk=bus\n",
      "https://www.ibm.com/think/reports/ai-in-action?lnk=bus\n",
      "https://www.ibm.com/products/watsonx-orchestrate/ai-agent-for-hr?lnk=bus\n",
      "https://skillsbuild.org/adult-learners/explore-learning/artificial-intelligence?lnk=bus\n",
      "https://www.ibm.com/artificial-intelligence?lnk=ProdC\n",
      "https://www.ibm.com/hybrid-cloud?lnk=ProdC\n",
      "https://www.ibm.com/consulting?lnk=ProdC\n"
     ]
    }
   ],
   "source": [
    "# In HTML anchor/link is represented by the tag <a>\n",
    "for link in soup.find_all('a', href = True):\n",
    "\n",
    "    print(link.get('href'))"
   ]
  },
  {
   "cell_type": "markdown",
   "id": "d003b335-1432-4a07-9ae6-d62c609e8ac9",
   "metadata": {},
   "source": [
    "## Scrape All Image Tags"
   ]
  },
  {
   "cell_type": "code",
   "execution_count": 73,
   "id": "f43ce070-cf95-4045-9a3b-82634a9c85a5",
   "metadata": {},
   "outputs": [],
   "source": [
    "# In HTML an image is represented by the tag <img>\n",
    "for link in soup.find_all('img'):\n",
    "    print(link)\n",
    "    print(link.get('src'))"
   ]
  },
  {
   "cell_type": "markdown",
   "id": "1bb3ae02-1fa0-4dee-aa43-41d73f561c3e",
   "metadata": {},
   "source": [
    "## Scrape Data from HTML Tables"
   ]
  },
  {
   "cell_type": "code",
   "execution_count": 74,
   "id": "67a1a2b4-7fb3-425a-a4c6-4564d54994f7",
   "metadata": {},
   "outputs": [],
   "source": [
    "# The below URL contains an HTML table with data about colors and color codes\n",
    "url = \"https://cf-courses-data.s3.us.cloud-object-storage.appdomain.cloud/IBM-DA0321EN-SkillsNetwork/labs/datasets/HTMLColorCodes.html\""
   ]
  },
  {
   "cell_type": "markdown",
   "id": "53f07ba6-9f66-49df-8fab-bc3846c2e681",
   "metadata": {},
   "source": [
    "Before proceeding to scrape a website, you need to examine the contents and the way data is organized on the website. Open the above URL in your browser and check how many rows and columns there are in the color table."
   ]
  },
  {
   "cell_type": "code",
   "execution_count": 76,
   "id": "a8f914c7-7365-4363-94fb-6cf47cd32405",
   "metadata": {},
   "outputs": [],
   "source": [
    "# Get the contents of the webpage in text format and store in a variable called data\n",
    "data = requests.get(url).text"
   ]
  },
  {
   "cell_type": "code",
   "execution_count": 77,
   "id": "a7269274-512e-4504-9cf9-76388e1542fc",
   "metadata": {},
   "outputs": [],
   "source": [
    "soup = BeautifulSoup(data, \"html5lib\")"
   ]
  },
  {
   "cell_type": "code",
   "execution_count": 78,
   "id": "679b272f-8249-4354-8558-9d9207ba748b",
   "metadata": {},
   "outputs": [],
   "source": [
    "# Find an HTML table in the web page\n",
    "\n",
    "# In HTML, a table is represented by the tag <table>\n",
    "table = soup.find('table')"
   ]
  },
  {
   "cell_type": "code",
   "execution_count": 79,
   "id": "84b03542-3467-411d-b512-97e3cf895274",
   "metadata": {},
   "outputs": [
    {
     "name": "stdout",
     "output_type": "stream",
     "text": [
      "Color Name--->None\n",
      "lightsalmon--->#FFA07A\n",
      "salmon--->#FA8072\n",
      "darksalmon--->#E9967A\n",
      "lightcoral--->#F08080\n",
      "coral--->#FF7F50\n",
      "tomato--->#FF6347\n",
      "orangered--->#FF4500\n",
      "gold--->#FFD700\n",
      "orange--->#FFA500\n",
      "darkorange--->#FF8C00\n",
      "lightyellow--->#FFFFE0\n",
      "lemonchiffon--->#FFFACD\n",
      "papayawhip--->#FFEFD5\n",
      "moccasin--->#FFE4B5\n",
      "peachpuff--->#FFDAB9\n",
      "palegoldenrod--->#EEE8AA\n",
      "khaki--->#F0E68C\n",
      "darkkhaki--->#BDB76B\n",
      "yellow--->#FFFF00\n",
      "lawngreen--->#7CFC00\n",
      "chartreuse--->#7FFF00\n",
      "limegreen--->#32CD32\n",
      "lime--->#00FF00\n",
      "forestgreen--->#228B22\n",
      "green--->#008000\n",
      "powderblue--->#B0E0E6\n",
      "lightblue--->#ADD8E6\n",
      "lightskyblue--->#87CEFA\n",
      "skyblue--->#87CEEB\n",
      "deepskyblue--->#00BFFF\n",
      "lightsteelblue--->#B0C4DE\n",
      "dodgerblue--->#1E90FF\n"
     ]
    }
   ],
   "source": [
    "# Get all the rows from the table\n",
    "\n",
    "# In HTML, a table row is represented by the tag <tr>\n",
    "for row in table.find_all('tr'):\n",
    "\n",
    "    # Get all the columns in each row\n",
    "    # In HTML, a column is represented by the tag <td>\n",
    "    cols = row.find_all('td')\n",
    "\n",
    "    # Store the value in column 3 as color_name\n",
    "    color_name = cols[2].string\n",
    "\n",
    "    # Store the value in column 4 as color_code\n",
    "    color_code = cols[3].string\n",
    "\n",
    "    print(\"{}--->{}\".format(color_name, color_code))"
   ]
  },
  {
   "cell_type": "code",
   "execution_count": null,
   "id": "e4e43a19-ab50-4b95-b09d-612660b28b86",
   "metadata": {},
   "outputs": [],
   "source": []
  }
 ],
 "metadata": {
  "kernelspec": {
   "display_name": "Python 3 (ipykernel)",
   "language": "python",
   "name": "python3"
  },
  "language_info": {
   "codemirror_mode": {
    "name": "ipython",
    "version": 3
   },
   "file_extension": ".py",
   "mimetype": "text/x-python",
   "name": "python",
   "nbconvert_exporter": "python",
   "pygments_lexer": "ipython3",
   "version": "3.12.6"
  }
 },
 "nbformat": 4,
 "nbformat_minor": 5
}
