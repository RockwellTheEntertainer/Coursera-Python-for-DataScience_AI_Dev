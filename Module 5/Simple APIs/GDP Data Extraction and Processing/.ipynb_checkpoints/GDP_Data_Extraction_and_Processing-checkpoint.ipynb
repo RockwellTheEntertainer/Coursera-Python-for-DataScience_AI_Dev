{
 "cells": [
  {
   "cell_type": "markdown",
   "id": "72cb4df8-d10b-4c51-80da-4706bee17f61",
   "metadata": {},
   "source": [
    "# **Practice Project: GDP Data Extraction and Processing**\n",
    "\n",
    "## Introduction\n",
    "\n",
    "In this practice project, you will put the skills acquired through the course to use. You will extract data from a website using webscraping and request APIs, then process it using Pandas and NumPy libraries\n",
    "\n",
    "## Project Scenario:\n",
    "\n",
    "An international firm that is looking to expand its business in different countries across the world has recruited you. You have been hired as a junior Data Engineer and are tasked with creating a script that can extract the list of the top 10 largest economies of the world in descending order of their GDPs in Billion USD (rounded to 2 decimal places), as logged by the International Monetary Fund (IMF)\n",
    "\n",
    "The required data seems to be available on the URL mentioned below:\n",
    "\n",
    "URL: https://web.archive.org/web/20230902185326/https://en.wikipedia.org/wiki/List_of_countries_by_GDP_%28nominal%29\n",
    "\n",
    "\n",
    "## Objectives\n",
    "\n",
    "After completing this lab I will be able to:\n",
    "\n",
    "* Use webscraping to extract required information from a website\n",
    "* Use Pandas to load and process the tabular data as a DataFrame\n",
    "* Use NumPy to manipulate the information contained in the DataFrame\n",
    "* Load the updated DataFrame to a CSV file"
   ]
  },
  {
   "cell_type": "markdown",
   "id": "39e3155c-ac3a-4060-affc-5d32fb38a705",
   "metadata": {},
   "source": [
    "---"
   ]
  },
  {
   "cell_type": "markdown",
   "id": "fabf2c3a-219f-4d11-86ce-2c90f3a5848e",
   "metadata": {},
   "source": [
    "### Disclaimer\n",
    "\n",
    "If you are using a downloaded version of this notebook on your local machine, you may encounter a warning message as shown in the screenshot below:\n",
    "\n",
    "<p style=\"text-align:center\">\n",
    "    <img src=\"https://cf-courses-data.s3.us.cloud-object-storage.appdomain.cloud/IBMDeveloperSkillsNetwork-PY0101EN-SkillsNetwork/labs/mod_5/practice_project_disclaimer.png\" width=\"700\" alt=\"warning message\">\n",
    "</p>\n",
    "\n",
    "This does not affect the execution of the codes in any way and can simply be ignored"
   ]
  },
  {
   "cell_type": "markdown",
   "id": "e5d5bc4e-9010-44be-b646-51c2a239d609",
   "metadata": {},
   "source": [
    "---"
   ]
  },
  {
   "cell_type": "markdown",
   "id": "68aeec1b-f483-444e-80dd-8870fd11cbeb",
   "metadata": {},
   "source": [
    "### Setup\n",
    "\n",
    "For this lab, we will be using the following libraries:\n",
    "\n",
    "* `Pandas` for managing the data\n",
    "* `NumPy` for mathematical operations"
   ]
  },
  {
   "cell_type": "code",
   "execution_count": 1,
   "id": "5cc633fe-2e65-4369-8bbd-2c20d84a238f",
   "metadata": {},
   "outputs": [
    {
     "name": "stdout",
     "output_type": "stream",
     "text": [
      "Defaulting to user installation because normal site-packages is not writeable\n",
      "Requirement already satisfied: pandas in c:\\users\\matth\\appdata\\roaming\\python\\python312\\site-packages (2.2.3)\n",
      "Requirement already satisfied: numpy in c:\\users\\matth\\appdata\\roaming\\python\\python312\\site-packages (2.1.3)\n",
      "Requirement already satisfied: python-dateutil>=2.8.2 in c:\\users\\matth\\appdata\\roaming\\python\\python312\\site-packages (from pandas) (2.9.0.post0)\n",
      "Requirement already satisfied: pytz>=2020.1 in c:\\users\\matth\\appdata\\roaming\\python\\python312\\site-packages (from pandas) (2024.2)\n",
      "Requirement already satisfied: tzdata>=2022.7 in c:\\users\\matth\\appdata\\roaming\\python\\python312\\site-packages (from pandas) (2024.2)\n",
      "Requirement already satisfied: six>=1.5 in c:\\users\\matth\\appdata\\roaming\\python\\python312\\site-packages (from python-dateutil>=2.8.2->pandas) (1.16.0)\n",
      "Defaulting to user installation because normal site-packages is not writeable\n",
      "Collecting lxml\n",
      "  Downloading lxml-5.3.0-cp312-cp312-win_amd64.whl.metadata (3.9 kB)\n",
      "Downloading lxml-5.3.0-cp312-cp312-win_amd64.whl (3.8 MB)\n",
      "   ---------------------------------------- 0.0/3.8 MB ? eta -:--:--\n",
      "   -- ------------------------------------- 0.3/3.8 MB ? eta -:--:--\n",
      "   -------- ------------------------------- 0.8/3.8 MB 2.4 MB/s eta 0:00:02\n",
      "   ------------- -------------------------- 1.3/3.8 MB 2.3 MB/s eta 0:00:02\n",
      "   ---------------- ----------------------- 1.6/3.8 MB 2.3 MB/s eta 0:00:01\n",
      "   ---------------- ----------------------- 1.6/3.8 MB 2.3 MB/s eta 0:00:01\n",
      "   ------------------------ --------------- 2.4/3.8 MB 1.9 MB/s eta 0:00:01\n",
      "   --------------------------- ------------ 2.6/3.8 MB 1.9 MB/s eta 0:00:01\n",
      "   -------------------------------- ------- 3.1/3.8 MB 2.0 MB/s eta 0:00:01\n",
      "   -------------------------------- ------- 3.1/3.8 MB 2.0 MB/s eta 0:00:01\n",
      "   ----------------------------------- ---- 3.4/3.8 MB 1.7 MB/s eta 0:00:01\n",
      "   -------------------------------------- - 3.7/3.8 MB 1.7 MB/s eta 0:00:01\n",
      "   ---------------------------------------- 3.8/3.8 MB 1.6 MB/s eta 0:00:00\n",
      "Installing collected packages: lxml\n",
      "Successfully installed lxml-5.3.0\n"
     ]
    }
   ],
   "source": [
    "# Install the required packages\n",
    "\n",
    "!pip install pandas numpy\n",
    "!pip install lxml"
   ]
  },
  {
   "cell_type": "markdown",
   "id": "900129c2-991e-43f3-abb5-1d3cdaa7d774",
   "metadata": {},
   "source": [
    "### Importing Required Libraries\n",
    "\n",
    "*We recommend you import all required libraries in one place (here):*"
   ]
  },
  {
   "cell_type": "code",
   "execution_count": 60,
   "id": "c77c09ab-6f8f-46a9-beb1-6109f8e71911",
   "metadata": {},
   "outputs": [],
   "source": [
    "import numpy as np\n",
    "import pandas as pd\n",
    "\n",
    "# You can also use this section to suppress warnings generated by your code:\n",
    "def warn(*args, **kwargs):\n",
    "    pass\n",
    "import warnings\n",
    "\n",
    "warnings.warn = warn\n",
    "warnings.filterwarnings('ignore')"
   ]
  },
  {
   "cell_type": "markdown",
   "id": "c862f452-3c32-471e-b85e-b50626401f80",
   "metadata": {},
   "source": [
    "### Exercises\n",
    "\n",
    "#### Exercise 1\n",
    "\n",
    "Extract the required GDP data from the given URL using web scraping"
   ]
  },
  {
   "cell_type": "code",
   "execution_count": 61,
   "id": "23c00711-43b1-42b5-b2cc-789bbdb8621f",
   "metadata": {},
   "outputs": [],
   "source": [
    "URL = \"https://web.archive.org/web/20230902185326/https://en.wikipedia.org/wiki/List_of_countries_by_GDP_%28nominal%29\""
   ]
  },
  {
   "cell_type": "markdown",
   "id": "2f4e4dec-e866-4619-93be-051f520f7d56",
   "metadata": {},
   "source": [
    "You can use the Pandas library to extract the required table directly as a DataFrame. Note that the required table is the third one on the website, as shown in the image below.\n",
    "\n",
    "<img src=\"https://cf-courses-data.s3.us.cloud-object-storage.appdomain.cloud/IBMDeveloperSkillsNetwork-PY0101EN-SkillsNetwork/images/pandas_wbs_3.png\">"
   ]
  },
  {
   "cell_type": "code",
   "execution_count": 62,
   "id": "ea7d7cc5-38a3-49d1-9d0b-fbd553c2a4d3",
   "metadata": {},
   "outputs": [
    {
     "data": {
      "text/html": [
       "<div>\n",
       "<style scoped>\n",
       "    .dataframe tbody tr th:only-of-type {\n",
       "        vertical-align: middle;\n",
       "    }\n",
       "\n",
       "    .dataframe tbody tr th {\n",
       "        vertical-align: top;\n",
       "    }\n",
       "\n",
       "    .dataframe thead th {\n",
       "        text-align: right;\n",
       "    }\n",
       "</style>\n",
       "<table border=\"1\" class=\"dataframe\">\n",
       "  <thead>\n",
       "    <tr style=\"text-align: right;\">\n",
       "      <th></th>\n",
       "      <th>Country</th>\n",
       "      <th>GDP (Million USD)</th>\n",
       "    </tr>\n",
       "  </thead>\n",
       "  <tbody>\n",
       "    <tr>\n",
       "      <th>1</th>\n",
       "      <td>United States</td>\n",
       "      <td>26854599</td>\n",
       "    </tr>\n",
       "    <tr>\n",
       "      <th>2</th>\n",
       "      <td>China</td>\n",
       "      <td>19373586</td>\n",
       "    </tr>\n",
       "    <tr>\n",
       "      <th>3</th>\n",
       "      <td>Japan</td>\n",
       "      <td>4409738</td>\n",
       "    </tr>\n",
       "    <tr>\n",
       "      <th>4</th>\n",
       "      <td>Germany</td>\n",
       "      <td>4308854</td>\n",
       "    </tr>\n",
       "    <tr>\n",
       "      <th>5</th>\n",
       "      <td>India</td>\n",
       "      <td>3736882</td>\n",
       "    </tr>\n",
       "    <tr>\n",
       "      <th>6</th>\n",
       "      <td>United Kingdom</td>\n",
       "      <td>3158938</td>\n",
       "    </tr>\n",
       "    <tr>\n",
       "      <th>7</th>\n",
       "      <td>France</td>\n",
       "      <td>2923489</td>\n",
       "    </tr>\n",
       "    <tr>\n",
       "      <th>8</th>\n",
       "      <td>Italy</td>\n",
       "      <td>2169745</td>\n",
       "    </tr>\n",
       "    <tr>\n",
       "      <th>9</th>\n",
       "      <td>Canada</td>\n",
       "      <td>2089672</td>\n",
       "    </tr>\n",
       "    <tr>\n",
       "      <th>10</th>\n",
       "      <td>Brazil</td>\n",
       "      <td>2081235</td>\n",
       "    </tr>\n",
       "  </tbody>\n",
       "</table>\n",
       "</div>"
      ],
      "text/plain": [
       "           Country GDP (Million USD)\n",
       "1    United States          26854599\n",
       "2            China          19373586\n",
       "3            Japan           4409738\n",
       "4          Germany           4308854\n",
       "5            India           3736882\n",
       "6   United Kingdom           3158938\n",
       "7           France           2923489\n",
       "8            Italy           2169745\n",
       "9           Canada           2089672\n",
       "10          Brazil           2081235"
      ]
     },
     "execution_count": 62,
     "metadata": {},
     "output_type": "execute_result"
    }
   ],
   "source": [
    "# Extract tables from webpage using Pandas. Retain table number 3 as the required DataFrame\n",
    "tables = pd.read_html(URL)\n",
    "table3 = tables[3]\n",
    "df = pd.DataFrame(table3)\n",
    "\n",
    "# Replace the column headers with column numbers\n",
    "df.columns = range(df.shape[1])\n",
    "\n",
    "# Retain columns with index 0 and 2 (name of country and value of GDP quoted by IMF)\n",
    "country_gdp = df[[0, 2]]\n",
    "\n",
    "# Retain the rows with index 1 to 11, indicating the top 10 economies in the world\n",
    "top_ten_df = country_gdp.iloc[1:11]\n",
    "\n",
    "# Assign column names as \"Country\" and \"GDP (Million USD)\"\n",
    "top_ten_df.columns = [\"Country\", \"GDP (Million USD)\"]\n",
    "\n",
    "# Print and verify the DataFrame is correct\n",
    "top_ten_df.head(11)"
   ]
  },
  {
   "cell_type": "markdown",
   "id": "0cb56e19-6ee5-4058-904f-628de20381a2",
   "metadata": {},
   "source": [
    "#### Exercise 2\n",
    "\n",
    "Modify the GDP column of the DataFrame, converting the value available in Million USD to Billion USD. Use the `round()` method of the NumPy library to round the value to 2 decimal places. Modify the header of the DataFram to `GDP (Billion USD)`"
   ]
  },
  {
   "cell_type": "code",
   "execution_count": 63,
   "id": "9dd7295d-458b-410e-ac48-14a7e9bdf787",
   "metadata": {},
   "outputs": [
    {
     "data": {
      "text/html": [
       "<div>\n",
       "<style scoped>\n",
       "    .dataframe tbody tr th:only-of-type {\n",
       "        vertical-align: middle;\n",
       "    }\n",
       "\n",
       "    .dataframe tbody tr th {\n",
       "        vertical-align: top;\n",
       "    }\n",
       "\n",
       "    .dataframe thead th {\n",
       "        text-align: right;\n",
       "    }\n",
       "</style>\n",
       "<table border=\"1\" class=\"dataframe\">\n",
       "  <thead>\n",
       "    <tr style=\"text-align: right;\">\n",
       "      <th></th>\n",
       "      <th>Country</th>\n",
       "      <th>GDP (Billion USD)</th>\n",
       "    </tr>\n",
       "  </thead>\n",
       "  <tbody>\n",
       "    <tr>\n",
       "      <th>1</th>\n",
       "      <td>United States</td>\n",
       "      <td>26854.60</td>\n",
       "    </tr>\n",
       "    <tr>\n",
       "      <th>2</th>\n",
       "      <td>China</td>\n",
       "      <td>19373.59</td>\n",
       "    </tr>\n",
       "    <tr>\n",
       "      <th>3</th>\n",
       "      <td>Japan</td>\n",
       "      <td>4409.74</td>\n",
       "    </tr>\n",
       "    <tr>\n",
       "      <th>4</th>\n",
       "      <td>Germany</td>\n",
       "      <td>4308.85</td>\n",
       "    </tr>\n",
       "    <tr>\n",
       "      <th>5</th>\n",
       "      <td>India</td>\n",
       "      <td>3736.88</td>\n",
       "    </tr>\n",
       "    <tr>\n",
       "      <th>6</th>\n",
       "      <td>United Kingdom</td>\n",
       "      <td>3158.94</td>\n",
       "    </tr>\n",
       "    <tr>\n",
       "      <th>7</th>\n",
       "      <td>France</td>\n",
       "      <td>2923.49</td>\n",
       "    </tr>\n",
       "    <tr>\n",
       "      <th>8</th>\n",
       "      <td>Italy</td>\n",
       "      <td>2169.74</td>\n",
       "    </tr>\n",
       "    <tr>\n",
       "      <th>9</th>\n",
       "      <td>Canada</td>\n",
       "      <td>2089.67</td>\n",
       "    </tr>\n",
       "    <tr>\n",
       "      <th>10</th>\n",
       "      <td>Brazil</td>\n",
       "      <td>2081.24</td>\n",
       "    </tr>\n",
       "  </tbody>\n",
       "</table>\n",
       "</div>"
      ],
      "text/plain": [
       "           Country  GDP (Billion USD)\n",
       "1    United States           26854.60\n",
       "2            China           19373.59\n",
       "3            Japan            4409.74\n",
       "4          Germany            4308.85\n",
       "5            India            3736.88\n",
       "6   United Kingdom            3158.94\n",
       "7           France            2923.49\n",
       "8            Italy            2169.74\n",
       "9           Canada            2089.67\n",
       "10          Brazil            2081.24"
      ]
     },
     "execution_count": 63,
     "metadata": {},
     "output_type": "execute_result"
    }
   ],
   "source": [
    "# Change the data type of the 'GDP (Million USD)' column to integer. Use astype() method\n",
    "top_ten_df['GDP (Million USD)'] = top_ten_df['GDP (Million USD)'].astype(int)\n",
    "\n",
    "# Convert the GDP value in Million USD to Billion USD\n",
    "top_ten_df['GDP (Million USD)'] = top_ten_df['GDP (Million USD)']/1000\n",
    "\n",
    "# Use numpy.round() method to round the value to 2 decimal places.\n",
    "top_ten_df['GDP (Million USD)'] = top_ten_df['GDP (Million USD)'].round(2)\n",
    "\n",
    "# Rename the column header from 'GDP (Million USD)' to 'GDP (Billion USD)'\n",
    "top_ten_df = top_ten_df.rename(columns={'GDP (Million USD)' : 'GDP (Billion USD)'})\n",
    "\n",
    "# Print results to verify\n",
    "top_ten_df.head(11)"
   ]
  },
  {
   "cell_type": "markdown",
   "id": "6beb4db4-ed84-4800-9e54-b022fe7ccaa7",
   "metadata": {},
   "source": [
    "#### Exercise 3\n",
    "\n",
    "Load the DataFrame to the CSV file named \"Largest_economies.csv\""
   ]
  },
  {
   "cell_type": "code",
   "execution_count": 64,
   "id": "a3b501d3-1b8f-40c1-a7eb-b380de900ca9",
   "metadata": {},
   "outputs": [],
   "source": [
    "# Load the DataFrame to the CSV file named \"Largest_economies.csv\"\n",
    "top_ten_df.to_csv(\"Largest_economies.csv\", index = False)"
   ]
  },
  {
   "cell_type": "code",
   "execution_count": null,
   "id": "edd258ce-ab22-40fb-95cc-60870ca07d67",
   "metadata": {},
   "outputs": [],
   "source": []
  }
 ],
 "metadata": {
  "kernelspec": {
   "display_name": "Python 3 (ipykernel)",
   "language": "python",
   "name": "python3"
  },
  "language_info": {
   "codemirror_mode": {
    "name": "ipython",
    "version": 3
   },
   "file_extension": ".py",
   "mimetype": "text/x-python",
   "name": "python",
   "nbconvert_exporter": "python",
   "pygments_lexer": "ipython3",
   "version": "3.12.6"
  }
 },
 "nbformat": 4,
 "nbformat_minor": 5
}
